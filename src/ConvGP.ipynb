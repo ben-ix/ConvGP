{
 "cells": [
  {
   "cell_type": "code",
   "execution_count": 1,
   "metadata": {},
   "outputs": [],
   "source": [
    "import scipy as sp\n",
    "from  scipy import ndimage\n",
    "import random\n",
    "from glob import glob\n",
    "import stgp\n",
    "from sklearn import neighbors, svm, tree, naive_bayes, ensemble\n",
    "from sklearn import metrics\n",
    "from sklearn.utils import shuffle\n",
    "from autograd import grad \n",
    "\n",
    "import numpy as np"
   ]
  },
  {
   "cell_type": "markdown",
   "metadata": {
    "collapsed": true
   },
   "source": [
    "# Data settings\n",
    "Various custom parameter settings for the dataset"
   ]
  },
  {
   "cell_type": "code",
   "execution_count": 2,
   "metadata": {
    "collapsed": true
   },
   "outputs": [],
   "source": [
    "# Reproducability\n",
    "seed = 1\n",
    "random.seed(seed)\n",
    "\n",
    "# Which data to use\n",
    "data_directory = \"data/\"\n",
    "dataset_name = \"jaffe\"\n",
    "training_split = 0.5 # 80% of the data for training\n",
    "\n",
    "# Whether or not to scale the data to a specific size (must be used if images are of different sizes)\n",
    "scale = False\n",
    "scaled_width = 256 \n",
    "scaled_height = 256"
   ]
  },
  {
   "cell_type": "markdown",
   "metadata": {},
   "source": [
    "# Read in the data for training/testing\n",
    "1. Read the images from disk\n",
    "2. Save these in a dict from label -> images\n",
    "3. Split these based off label into training/testing images\n",
    "\n",
    "Need to do it in this order to ensure we get an equal split of instances from each class in the data, since classification accuracy is used as fitness this is important."
   ]
  },
  {
   "cell_type": "code",
   "execution_count": 3,
   "metadata": {
    "collapsed": true
   },
   "outputs": [],
   "source": [
    "# Reads in all the data as a dict from label -> [images]\n",
    "def read_data(directory):\n",
    "    data = {}\n",
    "\n",
    "    # Assumes the images are in subfolders, where the folder name is the images label\n",
    "    for subdir in glob(directory+\"/*/\"):\n",
    "        label = subdir.split(\"/\")[-2] # Second to last element is thee class/sub folder name\n",
    "        images = [ndimage.imread(image) for image in glob(subdir+\"/*.*\")] # Read in all the images from subdirectories\n",
    "        images = [image.astype(float) for image in images] # We dont want to store as only 0..255\n",
    "        \n",
    "        # Shuffle the images (seed specified at the top of program so this will be reproducable)\n",
    "        random.shuffle(images)\n",
    "        data[label] = images\n",
    "        \n",
    "    # Set of all class names\n",
    "    class_names = list(data.keys())\n",
    "\n",
    "    # Sanity check\n",
    "    if len(class_names) != 2:\n",
    "        print(\"Binary classification only! But labels found were:\", labels)\n",
    "    \n",
    "    return data, class_names\n",
    "\n",
    "# Splits the data into four arrays trainingX, trainingY, testingX, testingY\n",
    "def format_and_split_data(data, class_names, split):\n",
    "    trainingX = []\n",
    "    trainingY = []\n",
    "    \n",
    "    testingX = []\n",
    "    testingY = []\n",
    "    \n",
    "    # For all the classes, split into training/testing (need to do it per class to ensure we get a good split of all classes)\n",
    "    for label in class_names:\n",
    "        x = data[label]\n",
    "        length = int(len(x))\n",
    "        y = [label] * length\n",
    "        \n",
    "        training_length = int(length * split)\n",
    "        trainingX.extend(x[:training_length])\n",
    "        trainingY.extend(y[:training_length])\n",
    "        \n",
    "        testingX.extend(x[training_length:])\n",
    "        testingY.extend(y[training_length:])\n",
    "    \n",
    "    # And just so the order isnt all class1s then all class2s, shuffle the data in unison\n",
    "    trainingX, trainingY = shuffle(trainingX, trainingY, random_state=seed)\n",
    "    testingX, testingY = shuffle(testingX, testingY, random_state=seed)\n",
    "\n",
    "    return trainingX, trainingY, testingX, testingY\n",
    "        \n",
    "# Read and split data into training and testing    \n",
    "data, class_names = read_data(data_directory+dataset_name)\n",
    "trainingX, trainingY, testingX, testingY = format_and_split_data(data, class_names, training_split)"
   ]
  },
  {
   "cell_type": "markdown",
   "metadata": {},
   "source": [
    "# Run the various models\n",
    "\n",
    "Now we have the data, we can run and evaluate the various algorithms"
   ]
  },
  {
   "cell_type": "code",
   "execution_count": 4,
   "metadata": {
    "collapsed": true
   },
   "outputs": [],
   "source": [
    "# The general classification methods require a list of features, rather than a 2d array so we need to flatten these\n",
    "flattened_trainingX = [image.flatten() for image in trainingX]\n",
    "flattened_testingX = [image.flatten() for image in testingX]"
   ]
  },
  {
   "cell_type": "code",
   "execution_count": 5,
   "metadata": {
    "collapsed": true
   },
   "outputs": [],
   "source": [
    "# The method of comparison\n",
    "def classification_accuracy(real_labels, predicted_labels):\n",
    "    return metrics.accuracy_score(real_labels, predicted_labels)\n",
    "\n",
    "# The general classifiers to compare against\n",
    "general_classifiers = {\n",
    "    \"Nearest Neighbour\": neighbors.KNeighborsClassifier(1),\n",
    "    \"SVM\": svm.SVC(),\n",
    "    \"Decision Tree\": tree.DecisionTreeClassifier(),\n",
    "    \"Naive Bayes\": naive_bayes.GaussianNB(),\n",
    "    \"Adaboost\": ensemble.AdaBoostClassifier()\n",
    "}\n",
    "\n",
    "# The developed method\n",
    "convgp = stgp.ConvGP()"
   ]
  },
  {
   "cell_type": "code",
   "execution_count": 6,
   "metadata": {
    "collapsed": true
   },
   "outputs": [],
   "source": [
    "def fit_and_evaluate(model, trainingX, trainingY, testingX, testingY, seed=None, verbose=False):\n",
    "    if seed is not None:\n",
    "        model.fit(trainingX, trainingY, seed=seed, verbose=verbose)\n",
    "    else:\n",
    "        model.fit(trainingX, trainingY)\n",
    "        \n",
    "    predicted_training = model.predict(trainingX)\n",
    "    predicted_testing = model.predict(testingX)\n",
    "    \n",
    "    return classification_accuracy(trainingY, predicted_training), classification_accuracy(testingY, predicted_testing) "
   ]
  },
  {
   "cell_type": "code",
   "execution_count": 7,
   "metadata": {
    "scrolled": false
   },
   "outputs": [
    {
     "name": "stdout",
     "output_type": "stream",
     "text": [
      "Name: Training accuracy, Testing Accuracy\n",
      "Nearest Neighbour: 1.0, 0.733333333333\n",
      "SVM: 1.0, 0.733333333333\n",
      "Decision Tree: 1.0, 0.766666666667\n",
      "Naive Bayes: 1.0, 0.9\n",
      "Adaboost: 1.0, 0.833333333333\n"
     ]
    }
   ],
   "source": [
    "print(\"Name: Training accuracy, Testing Accuracy\")\n",
    "# These methods are deterministic, so only need to be run once\n",
    "for classifier in general_classifiers:\n",
    "    model = general_classifiers[classifier]\n",
    "    training_accuracy, testing_accuracy = fit_and_evaluate(model, flattened_trainingX, trainingY, flattened_testingX, testingY)\n",
    "    print(classifier + \": \" + str(training_accuracy) +\", \" + str(testing_accuracy))"
   ]
  },
  {
   "cell_type": "code",
   "execution_count": 8,
   "metadata": {
    "scrolled": false
   },
   "outputs": [
    {
     "name": "stderr",
     "output_type": "stream",
     "text": [
      "/Users/ben/Documents/Summer Research/helpers.py:85: RuntimeWarning: divide by zero encountered in double_scalars\n",
      "  return num / den\n"
     ]
    },
    {
     "name": "stdout",
     "output_type": "stream",
     "text": [
      "inf\n",
      "mul(sub(sub(-0.6287201944830898, -0.5401283398984111), div(-0.8416968495564106, aggmin(Convolution(ARG0, Filter([3, 2, 1, 0, -2, 1, 3, 3, 1])), Shape('Ellipse'), Position(0.8916310399389117), Position(0.22397796049173274), Size(0.6256048982268874), Size(0.4929762364463691)))), aggmax(ARG0, Shape('Row'), Position(0.4166867471178267), Position(0.32903820040258946), Size(0.40820604048651166), Size(0.26412532877879435)))\n",
      "inf\n",
      "mul(sub(sub(-0.6287201944830898, -0.5401283398984111), div(-0.8416968495564106, aggmin(Convolution(ARG0, Filter([3, 2, 1, 0, -2, 1, 3, 3, 1])), Shape('Ellipse'), Position(0.8916310399389117), Position(0.22397796049173274), Size(0.6256048982268874), Size(0.4929762364463691)))), aggmax(ARG0, Shape('Row'), Position(0.4166867471178267), Position(0.32903820040258946), Size(0.40820604048651166), Size(0.26412532877879435)))\n",
      "inf\n",
      "mul(sub(sub(-0.6287201944830898, -0.5401283398984111), div(-0.8416968495564106, aggmin(Convolution(ARG0, Filter([3, 2, 1, 0, -2, 1, 3, 3, 1])), Shape('Ellipse'), Position(0.8916310399389117), Position(0.22397796049173274), Size(0.6256048982268874), Size(0.4929762364463691)))), aggmax(ARG0, Shape('Row'), Position(0.4166867471178267), Position(0.32903820040258946), Size(0.40820604048651166), Size(0.26412532877879435)))\n",
      "inf\n",
      "mul(sub(sub(-0.6287201944830898, -0.5401283398984111), div(-0.8416968495564106, aggmin(Convolution(ARG0, Filter([3, 2, 1, 0, -2, 1, 3, 3, 1])), Shape('Ellipse'), Position(0.8916310399389117), Position(0.22397796049173274), Size(0.6256048982268874), Size(0.4929762364463691)))), aggmax(ARG0, Shape('Row'), Position(0.4166867471178267), Position(0.32903820040258946), Size(0.40820604048651166), Size(0.26412532877879435)))\n",
      "inf\n",
      "mul(sub(sub(-0.6287201944830898, -0.5401283398984111), div(-0.8416968495564106, aggmin(Convolution(ARG0, Filter([3, 2, 1, 0, -2, 1, 3, 3, 1])), Shape('Ellipse'), Position(0.8916310399389117), Position(0.22397796049173274), Size(0.6256048982268874), Size(0.4929762364463691)))), aggmax(ARG0, Shape('Row'), Position(0.4166867471178267), Position(0.32903820040258946), Size(0.40820604048651166), Size(0.26412532877879435)))\n",
      "inf\n",
      "mul(sub(sub(-0.6287201944830898, -0.5401283398984111), div(-0.8416968495564106, aggmin(Convolution(ARG0, Filter([3, 2, 1, 0, -2, 1, 3, 3, 1])), Shape('Ellipse'), Position(0.8916310399389117), Position(0.22397796049173274), Size(0.6256048982268874), Size(0.4929762364463691)))), aggmax(ARG0, Shape('Row'), Position(0.4166867471178267), Position(0.32903820040258946), Size(0.40820604048651166), Size(0.26412532877879435)))\n",
      "inf\n",
      "mul(sub(sub(-0.6287201944830898, -0.5401283398984111), div(-0.8416968495564106, aggmin(Convolution(ARG0, Filter([3, 2, 1, 0, -2, 1, 3, 3, 1])), Shape('Ellipse'), Position(0.8916310399389117), Position(0.22397796049173274), Size(0.6256048982268874), Size(0.4929762364463691)))), aggmax(ARG0, Shape('Row'), Position(0.4166867471178267), Position(0.32903820040258946), Size(0.40820604048651166), Size(0.26412532877879435)))\n",
      "inf\n",
      "mul(sub(sub(-0.6287201944830898, -0.5401283398984111), div(-0.8416968495564106, aggmin(Convolution(ARG0, Filter([3, 2, 1, 0, -2, 1, 3, 3, 1])), Shape('Ellipse'), Position(0.8916310399389117), Position(0.22397796049173274), Size(0.6256048982268874), Size(0.4929762364463691)))), aggmax(ARG0, Shape('Row'), Position(0.4166867471178267), Position(0.32903820040258946), Size(0.40820604048651166), Size(0.26412532877879435)))\n",
      "inf\n",
      "mul(sub(sub(-0.6287201944830898, -0.5401283398984111), div(-0.8416968495564106, aggmin(Convolution(ARG0, Filter([3, 2, 1, 0, -2, 1, 3, 3, 1])), Shape('Ellipse'), Position(0.8916310399389117), Position(0.22397796049173274), Size(0.6256048982268874), Size(0.4929762364463691)))), aggmax(ARG0, Shape('Row'), Position(0.4166867471178267), Position(0.32903820040258946), Size(0.40820604048651166), Size(0.26412532877879435)))\n",
      "inf\n",
      "mul(sub(sub(-0.6287201944830898, -0.5401283398984111), div(-0.8416968495564106, aggmin(Convolution(ARG0, Filter([3, 2, 1, 0, -2, 1, 3, 3, 1])), Shape('Ellipse'), Position(0.8916310399389117), Position(0.22397796049173274), Size(0.6256048982268874), Size(0.4929762364463691)))), aggmax(ARG0, Shape('Row'), Position(0.4166867471178267), Position(0.32903820040258946), Size(0.40820604048651166), Size(0.26412532877879435)))\n",
      "inf\n",
      "mul(sub(sub(-0.6287201944830898, -0.5401283398984111), div(-0.8416968495564106, aggmin(Convolution(ARG0, Filter([3, 2, 1, 0, -2, 1, 3, 3, 1])), Shape('Ellipse'), Position(0.8916310399389117), Position(0.22397796049173274), Size(0.6256048982268874), Size(0.4929762364463691)))), aggmax(ARG0, Shape('Row'), Position(0.4166867471178267), Position(0.32903820040258946), Size(0.40820604048651166), Size(0.26412532877879435)))\n",
      "inf\n",
      "mul(sub(sub(-0.6287201944830898, -0.5401283398984111), div(-0.8416968495564106, aggmin(Convolution(ARG0, Filter([3, 2, 1, 0, -2, 1, 3, 3, 1])), Shape('Ellipse'), Position(0.8916310399389117), Position(0.22397796049173274), Size(0.6256048982268874), Size(0.4929762364463691)))), aggmax(ARG0, Shape('Row'), Position(0.4166867471178267), Position(0.32903820040258946), Size(0.40820604048651166), Size(0.26412532877879435)))\n",
      "inf\n",
      "div(aggmax(Pooling(Convolution(Pooling(ARG0), Filter([-2, 2, 3, 1, 1, -2, -1, 3, -2]))), Shape('Rectangle'), Position(0.35312060348413304), Position(0.30880891141093975), Size(0.40461584976328147), Size(0.7399663651157568)), aggmin(Convolution(Pooling(Pooling(ARG0)), Filter([-1, -2, -1, 2, 3, 1, 2, 2, -1])), Shape('Row'), Position(0.8599317262415725), Position(0.130265809566939), Size(0.2957213791298354), Size(0.36991821952044246)))\n",
      "inf\n",
      "div(aggmax(Pooling(Convolution(Pooling(ARG0), Filter([-2, 2, 3, 1, 1, -2, -1, 3, -2]))), Shape('Rectangle'), Position(0.35312060348413304), Position(0.30880891141093975), Size(0.40461584976328147), Size(0.7399663651157568)), aggmin(Convolution(Pooling(Pooling(ARG0)), Filter([-1, -2, -1, 2, 3, 1, 2, 2, -1])), Shape('Row'), Position(0.8599317262415725), Position(0.130265809566939), Size(0.2957213791298354), Size(0.36991821952044246)))\n",
      "inf\n",
      "div(aggmax(Pooling(Convolution(Pooling(ARG0), Filter([-2, 2, 3, 1, 1, -2, -1, 3, -2]))), Shape('Rectangle'), Position(0.35312060348413304), Position(0.30880891141093975), Size(0.40461584976328147), Size(0.7399663651157568)), aggmin(Convolution(Pooling(Pooling(ARG0)), Filter([-1, -2, -1, 2, 3, 1, 2, 2, -1])), Shape('Row'), Position(0.8599317262415725), Position(0.130265809566939), Size(0.2957213791298354), Size(0.36991821952044246)))\n",
      "inf\n",
      "div(aggmax(Pooling(Convolution(Pooling(ARG0), Filter([-2, 2, 3, 1, 1, -2, -1, 3, -2]))), Shape('Rectangle'), Position(0.35312060348413304), Position(0.30880891141093975), Size(0.40461584976328147), Size(0.7399663651157568)), aggmin(Convolution(Pooling(Pooling(ARG0)), Filter([-1, -2, -1, 2, 3, 1, 2, 2, -1])), Shape('Row'), Position(0.8599317262415725), Position(0.130265809566939), Size(0.2957213791298354), Size(0.36991821952044246)))\n",
      "inf\n",
      "div(aggmax(Pooling(Convolution(Pooling(ARG0), Filter([-2, 2, 3, 1, 1, -2, -1, 3, -2]))), Shape('Rectangle'), Position(0.35312060348413304), Position(0.30880891141093975), Size(0.40461584976328147), Size(0.7399663651157568)), aggmin(Convolution(Pooling(Pooling(ARG0)), Filter([-1, -2, -1, 2, 3, 1, 2, 2, -1])), Shape('Row'), Position(0.8599317262415725), Position(0.130265809566939), Size(0.2957213791298354), Size(0.36991821952044246)))\n",
      "inf\n",
      "div(aggmax(Pooling(Convolution(Pooling(ARG0), Filter([-2, 2, 3, 1, 1, -2, -1, 3, -2]))), Shape('Rectangle'), Position(0.35312060348413304), Position(0.30880891141093975), Size(0.40461584976328147), Size(0.7399663651157568)), aggmin(Convolution(Pooling(Pooling(ARG0)), Filter([-1, -2, -1, 2, 3, 1, 2, 2, -1])), Shape('Row'), Position(0.8599317262415725), Position(0.130265809566939), Size(0.2957213791298354), Size(0.36991821952044246)))\n",
      "inf\n",
      "div(aggmax(Pooling(Convolution(Pooling(ARG0), Filter([-2, 2, 3, 1, 1, -2, -1, 3, -2]))), Shape('Rectangle'), Position(0.35312060348413304), Position(0.30880891141093975), Size(0.40461584976328147), Size(0.7399663651157568)), aggmin(Convolution(Pooling(Pooling(ARG0)), Filter([-1, -2, -1, 2, 3, 1, 2, 2, -1])), Shape('Row'), Position(0.8599317262415725), Position(0.130265809566939), Size(0.2957213791298354), Size(0.36991821952044246)))\n",
      "inf\n",
      "div(aggmax(Pooling(Convolution(Pooling(ARG0), Filter([-2, 2, 3, 1, 1, -2, -1, 3, -2]))), Shape('Rectangle'), Position(0.35312060348413304), Position(0.30880891141093975), Size(0.40461584976328147), Size(0.7399663651157568)), aggmin(Convolution(Pooling(Pooling(ARG0)), Filter([-1, -2, -1, 2, 3, 1, 2, 2, -1])), Shape('Row'), Position(0.8599317262415725), Position(0.130265809566939), Size(0.2957213791298354), Size(0.36991821952044246)))\n",
      "inf\n",
      "div(aggmax(Pooling(Convolution(Pooling(ARG0), Filter([-2, 2, 3, 1, 1, -2, -1, 3, -2]))), Shape('Rectangle'), Position(0.35312060348413304), Position(0.30880891141093975), Size(0.40461584976328147), Size(0.7399663651157568)), aggmin(Convolution(Pooling(Pooling(ARG0)), Filter([-1, -2, -1, 2, 3, 1, 2, 2, -1])), Shape('Row'), Position(0.8599317262415725), Position(0.130265809566939), Size(0.2957213791298354), Size(0.36991821952044246)))\n",
      "inf\n",
      "div(aggmax(Pooling(Convolution(Pooling(ARG0), Filter([-2, 2, 3, 1, 1, -2, -1, 3, -2]))), Shape('Rectangle'), Position(0.35312060348413304), Position(0.30880891141093975), Size(0.40461584976328147), Size(0.7399663651157568)), aggmin(Convolution(Pooling(Pooling(ARG0)), Filter([-1, -2, -1, 2, 3, 1, 2, 2, -1])), Shape('Row'), Position(0.8599317262415725), Position(0.130265809566939), Size(0.2957213791298354), Size(0.36991821952044246)))\n",
      "inf\n",
      "div(aggmax(Pooling(Convolution(Pooling(ARG0), Filter([-2, 2, 3, 1, 1, -2, -1, 3, -2]))), Shape('Rectangle'), Position(0.35312060348413304), Position(0.30880891141093975), Size(0.40461584976328147), Size(0.7399663651157568)), aggmin(Convolution(Pooling(Pooling(ARG0)), Filter([-1, -2, -1, 2, 3, 1, 2, 2, -1])), Shape('Row'), Position(0.8599317262415725), Position(0.130265809566939), Size(0.2957213791298354), Size(0.36991821952044246)))\n",
      "inf\n",
      "div(aggmax(Pooling(Convolution(Pooling(ARG0), Filter([-2, 2, 3, 1, 1, -2, -1, 3, -2]))), Shape('Rectangle'), Position(0.35312060348413304), Position(0.30880891141093975), Size(0.40461584976328147), Size(0.7399663651157568)), aggmin(Convolution(Pooling(Pooling(ARG0)), Filter([-1, -2, -1, 2, 3, 1, 2, 2, -1])), Shape('Row'), Position(0.8599317262415725), Position(0.130265809566939), Size(0.2957213791298354), Size(0.36991821952044246)))\n",
      "inf\n",
      "div(aggmax(Pooling(Convolution(Pooling(ARG0), Filter([-2, 2, 3, 1, 1, -2, -1, 3, -2]))), Shape('Rectangle'), Position(0.35312060348413304), Position(0.30880891141093975), Size(0.40461584976328147), Size(0.7399663651157568)), aggmin(Convolution(Pooling(Pooling(ARG0)), Filter([-1, -2, -1, 2, 3, 1, 2, 2, -1])), Shape('Row'), Position(0.8599317262415725), Position(0.130265809566939), Size(0.2957213791298354), Size(0.36991821952044246)))\n",
      "inf\n",
      "div(aggmax(Pooling(Convolution(Pooling(ARG0), Filter([-2, 2, 3, 1, 1, -2, -1, 3, -2]))), Shape('Rectangle'), Position(0.35312060348413304), Position(0.30880891141093975), Size(0.40461584976328147), Size(0.7399663651157568)), aggmin(Convolution(Pooling(Pooling(ARG0)), Filter([-1, -2, -1, 2, 3, 1, 2, 2, -1])), Shape('Row'), Position(0.8599317262415725), Position(0.130265809566939), Size(0.2957213791298354), Size(0.36991821952044246)))\n",
      "inf\n",
      "div(aggmax(Pooling(Convolution(Pooling(ARG0), Filter([-2, 2, 3, 1, 1, -2, -1, 3, -2]))), Shape('Rectangle'), Position(0.35312060348413304), Position(0.30880891141093975), Size(0.40461584976328147), Size(0.7399663651157568)), aggmin(Convolution(Pooling(Pooling(ARG0)), Filter([-1, -2, -1, 2, 3, 1, 2, 2, -1])), Shape('Row'), Position(0.8599317262415725), Position(0.130265809566939), Size(0.2957213791298354), Size(0.36991821952044246)))\n",
      "inf\n",
      "div(aggmax(Pooling(Convolution(Pooling(ARG0), Filter([-2, 2, 3, 1, 1, -2, -1, 3, -2]))), Shape('Rectangle'), Position(0.35312060348413304), Position(0.30880891141093975), Size(0.40461584976328147), Size(0.7399663651157568)), aggmin(Convolution(Pooling(Pooling(ARG0)), Filter([-1, -2, -1, 2, 3, 1, 2, 2, -1])), Shape('Row'), Position(0.8599317262415725), Position(0.130265809566939), Size(0.2957213791298354), Size(0.36991821952044246)))\n",
      "inf\n",
      "div(aggmax(Pooling(Convolution(Pooling(ARG0), Filter([-2, 2, 3, 1, 1, -2, -1, 3, -2]))), Shape('Rectangle'), Position(0.35312060348413304), Position(0.30880891141093975), Size(0.40461584976328147), Size(0.7399663651157568)), aggmin(Convolution(Pooling(Pooling(ARG0)), Filter([-1, -2, -1, 2, 3, 1, 2, 2, -1])), Shape('Row'), Position(0.8599317262415725), Position(0.130265809566939), Size(0.2957213791298354), Size(0.36991821952044246)))\n",
      "inf\n",
      "div(aggmax(Pooling(Convolution(Pooling(ARG0), Filter([-2, 2, 3, 1, 1, -2, -1, 3, -2]))), Shape('Rectangle'), Position(0.35312060348413304), Position(0.30880891141093975), Size(0.40461584976328147), Size(0.7399663651157568)), aggmin(Convolution(Pooling(Pooling(ARG0)), Filter([-1, -2, -1, 2, 3, 1, 2, 2, -1])), Shape('Row'), Position(0.8599317262415725), Position(0.130265809566939), Size(0.2957213791298354), Size(0.36991821952044246)))\n",
      "inf\n",
      "div(aggmax(Pooling(Convolution(Pooling(ARG0), Filter([-2, 2, 3, 1, 1, -2, -1, 3, -2]))), Shape('Rectangle'), Position(0.35312060348413304), Position(0.30880891141093975), Size(0.40461584976328147), Size(0.7399663651157568)), aggmin(Convolution(Pooling(Pooling(ARG0)), Filter([-1, -2, -1, 2, 3, 1, 2, 2, -1])), Shape('Row'), Position(0.8599317262415725), Position(0.130265809566939), Size(0.2957213791298354), Size(0.36991821952044246)))\n",
      "inf\n",
      "div(aggmax(Pooling(Convolution(Pooling(ARG0), Filter([-2, 2, 3, 1, 1, -2, -1, 3, -2]))), Shape('Rectangle'), Position(0.35312060348413304), Position(0.30880891141093975), Size(0.40461584976328147), Size(0.7399663651157568)), aggmin(Convolution(Pooling(Pooling(ARG0)), Filter([-1, -2, -1, 2, 3, 1, 2, 2, -1])), Shape('Row'), Position(0.8599317262415725), Position(0.130265809566939), Size(0.2957213791298354), Size(0.36991821952044246)))\n",
      "inf\n",
      "div(aggmax(Pooling(Convolution(Pooling(ARG0), Filter([-2, 2, 3, 1, 1, -2, -1, 3, -2]))), Shape('Rectangle'), Position(0.35312060348413304), Position(0.30880891141093975), Size(0.40461584976328147), Size(0.7399663651157568)), aggmin(Convolution(Pooling(Pooling(ARG0)), Filter([-1, -2, -1, 2, 3, 1, 2, 2, -1])), Shape('Row'), Position(0.8599317262415725), Position(0.130265809566939), Size(0.2957213791298354), Size(0.36991821952044246)))\n",
      "inf\n",
      "div(aggmax(Pooling(Convolution(Pooling(ARG0), Filter([-2, 2, 3, 1, 1, -2, -1, 3, -2]))), Shape('Rectangle'), Position(0.35312060348413304), Position(0.30880891141093975), Size(0.40461584976328147), Size(0.7399663651157568)), aggmin(Convolution(Pooling(Pooling(ARG0)), Filter([-1, -2, -1, 2, 3, 1, 2, 2, -1])), Shape('Row'), Position(0.8599317262415725), Position(0.130265809566939), Size(0.2957213791298354), Size(0.36991821952044246)))\n",
      "inf\n",
      "div(aggmax(Pooling(Convolution(Pooling(ARG0), Filter([-2, 2, 3, 1, 1, -2, -1, 3, -2]))), Shape('Rectangle'), Position(0.35312060348413304), Position(0.30880891141093975), Size(0.40461584976328147), Size(0.7399663651157568)), aggmin(Convolution(Pooling(Pooling(ARG0)), Filter([-1, -2, -1, 2, 3, 1, 2, 2, -1])), Shape('Row'), Position(0.8599317262415725), Position(0.130265809566939), Size(0.2957213791298354), Size(0.36991821952044246)))\n",
      "inf\n",
      "div(aggmax(Pooling(Convolution(Pooling(ARG0), Filter([-2, 2, 3, 1, 1, -2, -1, 3, -2]))), Shape('Rectangle'), Position(0.35312060348413304), Position(0.30880891141093975), Size(0.40461584976328147), Size(0.7399663651157568)), aggmin(Convolution(Pooling(Pooling(ARG0)), Filter([-1, -2, -1, 2, 3, 1, 2, 2, -1])), Shape('Row'), Position(0.8599317262415725), Position(0.130265809566939), Size(0.2957213791298354), Size(0.36991821952044246)))\n",
      "inf\n",
      "div(aggmax(Pooling(Convolution(Pooling(ARG0), Filter([-2, 2, 3, 1, 1, -2, -1, 3, -2]))), Shape('Rectangle'), Position(0.35312060348413304), Position(0.30880891141093975), Size(0.40461584976328147), Size(0.7399663651157568)), aggmin(Convolution(Pooling(Pooling(ARG0)), Filter([-1, -2, -1, 2, 3, 1, 2, 2, -1])), Shape('Row'), Position(0.8599317262415725), Position(0.130265809566939), Size(0.2957213791298354), Size(0.36991821952044246)))\n",
      "inf\n",
      "div(aggmax(Pooling(Convolution(Pooling(ARG0), Filter([-2, 2, 3, 1, 1, -2, -1, 3, -2]))), Shape('Rectangle'), Position(0.35312060348413304), Position(0.30880891141093975), Size(0.40461584976328147), Size(0.7399663651157568)), aggmin(Convolution(Pooling(Pooling(ARG0)), Filter([-1, -2, -1, 2, 3, 1, 2, 2, -1])), Shape('Row'), Position(0.8599317262415725), Position(0.130265809566939), Size(0.2957213791298354), Size(0.36991821952044246)))\n",
      "inf\n",
      "div(aggmax(Pooling(Convolution(Pooling(ARG0), Filter([-2, 2, 3, 1, 1, -2, -1, 3, -2]))), Shape('Rectangle'), Position(0.35312060348413304), Position(0.30880891141093975), Size(0.40461584976328147), Size(0.7399663651157568)), aggmin(Convolution(Pooling(Pooling(ARG0)), Filter([-1, -2, -1, 2, 3, 1, 2, 2, -1])), Shape('Row'), Position(0.8599317262415725), Position(0.130265809566939), Size(0.2957213791298354), Size(0.36991821952044246)))\n",
      "inf\n",
      "div(aggmax(Pooling(Convolution(Pooling(ARG0), Filter([-2, 2, 3, 1, 1, -2, -1, 3, -2]))), Shape('Rectangle'), Position(0.35312060348413304), Position(0.30880891141093975), Size(0.40461584976328147), Size(0.7399663651157568)), aggmin(Convolution(Pooling(Pooling(ARG0)), Filter([-1, -2, -1, 2, 3, 1, 2, 2, -1])), Shape('Row'), Position(0.8599317262415725), Position(0.130265809566939), Size(0.2957213791298354), Size(0.36991821952044246)))\n",
      "inf\n",
      "div(aggmax(Pooling(Convolution(Pooling(ARG0), Filter([-2, 2, 3, 1, 1, -2, -1, 3, -2]))), Shape('Rectangle'), Position(0.35312060348413304), Position(0.30880891141093975), Size(0.40461584976328147), Size(0.7399663651157568)), aggmin(Convolution(Pooling(Pooling(ARG0)), Filter([-1, -2, -1, 2, 3, 1, 2, 2, -1])), Shape('Row'), Position(0.8599317262415725), Position(0.130265809566939), Size(0.2957213791298354), Size(0.36991821952044246)))\n"
     ]
    },
    {
     "name": "stdout",
     "output_type": "stream",
     "text": [
      "-inf\n",
      "div(mul(-0.5131707621141965, 0.3438180232918202), aggmin(ARG0, Shape('Rectangle'), Position(0.5011643755589166), Position(0.2865795905414039), Size(0.5848697571104152), Size(0.27791202939567083)))\n",
      "-inf\n",
      "div(mul(-0.5131707621141965, 0.3438180232918202), aggmin(ARG0, Shape('Rectangle'), Position(0.5011643755589166), Position(0.2865795905414039), Size(0.5848697571104152), Size(0.27791202939567083)))\n",
      "-inf\n",
      "div(mul(-0.5131707621141965, 0.3438180232918202), aggmin(ARG0, Shape('Rectangle'), Position(0.5011643755589166), Position(0.2865795905414039), Size(0.5848697571104152), Size(0.27791202939567083)))\n",
      "-inf\n",
      "div(mul(-0.5131707621141965, 0.3438180232918202), aggmin(ARG0, Shape('Rectangle'), Position(0.5011643755589166), Position(0.2865795905414039), Size(0.5848697571104152), Size(0.27791202939567083)))\n",
      "-inf\n",
      "div(mul(-0.5131707621141965, 0.3438180232918202), aggmin(ARG0, Shape('Rectangle'), Position(0.5011643755589166), Position(0.2865795905414039), Size(0.5848697571104152), Size(0.27791202939567083)))\n",
      "-inf\n",
      "div(mul(-0.5131707621141965, 0.3438180232918202), aggmin(ARG0, Shape('Rectangle'), Position(0.5011643755589166), Position(0.2865795905414039), Size(0.5848697571104152), Size(0.27791202939567083)))\n",
      "inf\n",
      "div(mul(0.9744128249401622, aggstd(ARG0, Shape('Ellipse'), Position(0.21345073541397586), Position(0.2080534906875554), Size(0.5468775668905907), Size(0.409823369915173))), aggstd(Convolution(ARG0, Filter([0, -3, -3, 3, -1, -1, 0, 0, -1])), Shape('Rectangle'), Position(0.7476672792252793), Position(0.4279136479388518), Size(0.302510624538909), Size(0.2838591355321004)))\n",
      "inf\n",
      "div(mul(0.9744128249401622, aggstd(ARG0, Shape('Ellipse'), Position(0.21345073541397586), Position(0.2080534906875554), Size(0.5468775668905907), Size(0.409823369915173))), aggstd(Convolution(ARG0, Filter([0, -3, -3, 3, -1, -1, 0, 0, -1])), Shape('Rectangle'), Position(0.7476672792252793), Position(0.4279136479388518), Size(0.302510624538909), Size(0.2838591355321004)))\n",
      "inf\n",
      "div(mul(0.9744128249401622, aggstd(ARG0, Shape('Ellipse'), Position(0.21345073541397586), Position(0.2080534906875554), Size(0.5468775668905907), Size(0.409823369915173))), aggstd(Convolution(ARG0, Filter([0, -3, -3, 3, -1, -1, 0, 0, -1])), Shape('Rectangle'), Position(0.7476672792252793), Position(0.4279136479388518), Size(0.302510624538909), Size(0.2838591355321004)))\n",
      "inf\n",
      "div(mul(0.9744128249401622, aggstd(ARG0, Shape('Ellipse'), Position(0.21345073541397586), Position(0.2080534906875554), Size(0.5468775668905907), Size(0.409823369915173))), aggstd(Convolution(ARG0, Filter([0, -3, -3, 3, -1, -1, 0, 0, -1])), Shape('Rectangle'), Position(0.7476672792252793), Position(0.4279136479388518), Size(0.302510624538909), Size(0.2838591355321004)))\n",
      "inf\n",
      "div(mul(0.9744128249401622, aggstd(ARG0, Shape('Ellipse'), Position(0.21345073541397586), Position(0.2080534906875554), Size(0.5468775668905907), Size(0.409823369915173))), aggstd(Convolution(ARG0, Filter([0, -3, -3, 3, -1, -1, 0, 0, -1])), Shape('Rectangle'), Position(0.7476672792252793), Position(0.4279136479388518), Size(0.302510624538909), Size(0.2838591355321004)))\n",
      "inf\n",
      "div(mul(0.9744128249401622, aggstd(ARG0, Shape('Ellipse'), Position(0.21345073541397586), Position(0.2080534906875554), Size(0.5468775668905907), Size(0.409823369915173))), aggstd(Convolution(ARG0, Filter([0, -3, -3, 3, -1, -1, 0, 0, -1])), Shape('Rectangle'), Position(0.7476672792252793), Position(0.4279136479388518), Size(0.302510624538909), Size(0.2838591355321004)))\n",
      "inf\n",
      "div(mul(0.9744128249401622, aggstd(ARG0, Shape('Ellipse'), Position(0.21345073541397586), Position(0.2080534906875554), Size(0.5468775668905907), Size(0.409823369915173))), aggstd(Convolution(ARG0, Filter([0, -3, -3, 3, -1, -1, 0, 0, -1])), Shape('Rectangle'), Position(0.7476672792252793), Position(0.4279136479388518), Size(0.302510624538909), Size(0.2838591355321004)))\n",
      "inf\n",
      "div(mul(0.9744128249401622, aggstd(ARG0, Shape('Ellipse'), Position(0.21345073541397586), Position(0.2080534906875554), Size(0.5468775668905907), Size(0.409823369915173))), aggstd(Convolution(ARG0, Filter([0, -3, -3, 3, -1, -1, 0, 0, -1])), Shape('Rectangle'), Position(0.7476672792252793), Position(0.4279136479388518), Size(0.302510624538909), Size(0.2838591355321004)))\n",
      "inf\n",
      "div(mul(0.9744128249401622, aggstd(ARG0, Shape('Ellipse'), Position(0.21345073541397586), Position(0.2080534906875554), Size(0.5468775668905907), Size(0.409823369915173))), aggstd(Convolution(ARG0, Filter([0, -3, -3, 3, -1, -1, 0, 0, -1])), Shape('Rectangle'), Position(0.7476672792252793), Position(0.4279136479388518), Size(0.302510624538909), Size(0.2838591355321004)))\n",
      "inf\n",
      "div(mul(0.9744128249401622, aggstd(ARG0, Shape('Ellipse'), Position(0.21345073541397586), Position(0.2080534906875554), Size(0.5468775668905907), Size(0.409823369915173))), aggstd(Convolution(ARG0, Filter([0, -3, -3, 3, -1, -1, 0, 0, -1])), Shape('Rectangle'), Position(0.7476672792252793), Position(0.4279136479388518), Size(0.302510624538909), Size(0.2838591355321004)))\n",
      "inf\n",
      "div(mul(0.9744128249401622, aggstd(ARG0, Shape('Ellipse'), Position(0.21345073541397586), Position(0.2080534906875554), Size(0.5468775668905907), Size(0.409823369915173))), aggstd(Convolution(ARG0, Filter([0, -3, -3, 3, -1, -1, 0, 0, -1])), Shape('Rectangle'), Position(0.7476672792252793), Position(0.4279136479388518), Size(0.302510624538909), Size(0.2838591355321004)))\n",
      "inf\n",
      "div(mul(0.9744128249401622, aggstd(ARG0, Shape('Ellipse'), Position(0.21345073541397586), Position(0.2080534906875554), Size(0.5468775668905907), Size(0.409823369915173))), aggstd(Convolution(ARG0, Filter([0, -3, -3, 3, -1, -1, 0, 0, -1])), Shape('Rectangle'), Position(0.7476672792252793), Position(0.4279136479388518), Size(0.302510624538909), Size(0.2838591355321004)))\n",
      "inf\n",
      "div(mul(0.9744128249401622, aggstd(ARG0, Shape('Ellipse'), Position(0.21345073541397586), Position(0.2080534906875554), Size(0.5468775668905907), Size(0.409823369915173))), aggstd(Convolution(ARG0, Filter([0, -3, -3, 3, -1, -1, 0, 0, -1])), Shape('Rectangle'), Position(0.7476672792252793), Position(0.4279136479388518), Size(0.302510624538909), Size(0.2838591355321004)))\n",
      "inf\n",
      "div(mul(0.9744128249401622, aggstd(ARG0, Shape('Ellipse'), Position(0.21345073541397586), Position(0.2080534906875554), Size(0.5468775668905907), Size(0.409823369915173))), aggstd(Convolution(ARG0, Filter([0, -3, -3, 3, -1, -1, 0, 0, -1])), Shape('Rectangle'), Position(0.7476672792252793), Position(0.4279136479388518), Size(0.302510624538909), Size(0.2838591355321004)))\n",
      "inf\n",
      "div(mul(0.9744128249401622, aggstd(ARG0, Shape('Ellipse'), Position(0.21345073541397586), Position(0.2080534906875554), Size(0.5468775668905907), Size(0.409823369915173))), aggstd(Convolution(ARG0, Filter([0, -3, -3, 3, -1, -1, 0, 0, -1])), Shape('Rectangle'), Position(0.7476672792252793), Position(0.4279136479388518), Size(0.302510624538909), Size(0.2838591355321004)))\n",
      "inf\n",
      "div(mul(0.9744128249401622, aggstd(ARG0, Shape('Ellipse'), Position(0.21345073541397586), Position(0.2080534906875554), Size(0.5468775668905907), Size(0.409823369915173))), aggstd(Convolution(ARG0, Filter([0, -3, -3, 3, -1, -1, 0, 0, -1])), Shape('Rectangle'), Position(0.7476672792252793), Position(0.4279136479388518), Size(0.302510624538909), Size(0.2838591355321004)))\n",
      "inf\n",
      "div(mul(0.9744128249401622, aggstd(ARG0, Shape('Ellipse'), Position(0.21345073541397586), Position(0.2080534906875554), Size(0.5468775668905907), Size(0.409823369915173))), aggstd(Convolution(ARG0, Filter([0, -3, -3, 3, -1, -1, 0, 0, -1])), Shape('Rectangle'), Position(0.7476672792252793), Position(0.4279136479388518), Size(0.302510624538909), Size(0.2838591355321004)))\n",
      "inf\n",
      "div(mul(0.9744128249401622, aggstd(ARG0, Shape('Ellipse'), Position(0.21345073541397586), Position(0.2080534906875554), Size(0.5468775668905907), Size(0.409823369915173))), aggstd(Convolution(ARG0, Filter([0, -3, -3, 3, -1, -1, 0, 0, -1])), Shape('Rectangle'), Position(0.7476672792252793), Position(0.4279136479388518), Size(0.302510624538909), Size(0.2838591355321004)))\n",
      "inf\n",
      "div(mul(0.9744128249401622, aggstd(ARG0, Shape('Ellipse'), Position(0.21345073541397586), Position(0.2080534906875554), Size(0.5468775668905907), Size(0.409823369915173))), aggstd(Convolution(ARG0, Filter([0, -3, -3, 3, -1, -1, 0, 0, -1])), Shape('Rectangle'), Position(0.7476672792252793), Position(0.4279136479388518), Size(0.302510624538909), Size(0.2838591355321004)))\n",
      "inf\n",
      "div(mul(0.9744128249401622, aggstd(ARG0, Shape('Ellipse'), Position(0.21345073541397586), Position(0.2080534906875554), Size(0.5468775668905907), Size(0.409823369915173))), aggstd(Convolution(ARG0, Filter([0, -3, -3, 3, -1, -1, 0, 0, -1])), Shape('Rectangle'), Position(0.7476672792252793), Position(0.4279136479388518), Size(0.302510624538909), Size(0.2838591355321004)))\n",
      "inf\n",
      "div(mul(0.9744128249401622, aggstd(ARG0, Shape('Ellipse'), Position(0.21345073541397586), Position(0.2080534906875554), Size(0.5468775668905907), Size(0.409823369915173))), aggstd(Convolution(ARG0, Filter([0, -3, -3, 3, -1, -1, 0, 0, -1])), Shape('Rectangle'), Position(0.7476672792252793), Position(0.4279136479388518), Size(0.302510624538909), Size(0.2838591355321004)))\n",
      "inf\n",
      "div(mul(0.9744128249401622, aggstd(ARG0, Shape('Ellipse'), Position(0.21345073541397586), Position(0.2080534906875554), Size(0.5468775668905907), Size(0.409823369915173))), aggstd(Convolution(ARG0, Filter([0, -3, -3, 3, -1, -1, 0, 0, -1])), Shape('Rectangle'), Position(0.7476672792252793), Position(0.4279136479388518), Size(0.302510624538909), Size(0.2838591355321004)))\n",
      "inf\n",
      "div(mul(0.9744128249401622, aggstd(ARG0, Shape('Ellipse'), Position(0.21345073541397586), Position(0.2080534906875554), Size(0.5468775668905907), Size(0.409823369915173))), aggstd(Convolution(ARG0, Filter([0, -3, -3, 3, -1, -1, 0, 0, -1])), Shape('Rectangle'), Position(0.7476672792252793), Position(0.4279136479388518), Size(0.302510624538909), Size(0.2838591355321004)))\n",
      "inf\n",
      "div(mul(0.9744128249401622, aggstd(ARG0, Shape('Ellipse'), Position(0.21345073541397586), Position(0.2080534906875554), Size(0.5468775668905907), Size(0.409823369915173))), aggstd(Convolution(ARG0, Filter([0, -3, -3, 3, -1, -1, 0, 0, -1])), Shape('Rectangle'), Position(0.7476672792252793), Position(0.4279136479388518), Size(0.302510624538909), Size(0.2838591355321004)))\n",
      "inf\n",
      "div(mul(0.9744128249401622, aggstd(ARG0, Shape('Ellipse'), Position(0.21345073541397586), Position(0.2080534906875554), Size(0.5468775668905907), Size(0.409823369915173))), aggstd(Convolution(ARG0, Filter([0, -3, -3, 3, -1, -1, 0, 0, -1])), Shape('Rectangle'), Position(0.7476672792252793), Position(0.4279136479388518), Size(0.302510624538909), Size(0.2838591355321004)))\n",
      "inf\n",
      "div(mul(0.9744128249401622, aggstd(ARG0, Shape('Ellipse'), Position(0.21345073541397586), Position(0.2080534906875554), Size(0.5468775668905907), Size(0.409823369915173))), aggstd(Convolution(ARG0, Filter([0, -3, -3, 3, -1, -1, 0, 0, -1])), Shape('Rectangle'), Position(0.7476672792252793), Position(0.4279136479388518), Size(0.302510624538909), Size(0.2838591355321004)))\n",
      "inf\n",
      "div(mul(0.9744128249401622, aggstd(ARG0, Shape('Ellipse'), Position(0.21345073541397586), Position(0.2080534906875554), Size(0.5468775668905907), Size(0.409823369915173))), aggstd(Convolution(ARG0, Filter([0, -3, -3, 3, -1, -1, 0, 0, -1])), Shape('Rectangle'), Position(0.7476672792252793), Position(0.4279136479388518), Size(0.302510624538909), Size(0.2838591355321004)))\n",
      "inf\n",
      "div(mul(0.9744128249401622, aggstd(ARG0, Shape('Ellipse'), Position(0.21345073541397586), Position(0.2080534906875554), Size(0.5468775668905907), Size(0.409823369915173))), aggstd(Convolution(ARG0, Filter([0, -3, -3, 3, -1, -1, 0, 0, -1])), Shape('Rectangle'), Position(0.7476672792252793), Position(0.4279136479388518), Size(0.302510624538909), Size(0.2838591355321004)))\n"
     ]
    },
    {
     "name": "stdout",
     "output_type": "stream",
     "text": [
      "inf\n",
      "mul(div(aggmax(Convolution(Pooling(ARG0), Filter([-2, 1, -1, -3, -2, 1, -3, -3, 2])), Shape('Rectangle'), Position(0.7196368218682043), Position(0.7520611250879389), Size(0.2536563169958542), Size(0.5854789238125047)), aggmin(Pooling(Convolution(ARG0, Filter([-3, 2, 2, 0, -2, 1, -1, -1, 1]))), Shape('Rectangle'), Position(0.2950202877460263), Position(0.8609027493031199), Size(0.5179256129338494), Size(0.4320479332389463))), sub(aggmax(Pooling(Convolution(ARG0, Filter([-3, 1, 1, 1, -2, -2, 3, 2, -3]))), Shape('Column'), Position(0.13443338899753907), Position(0.4070840449592438), Size(0.40990888499660516), Size(0.7423502711266131)), sub(aggmin(Convolution(ARG0, Filter([-2, 2, -1, 0, 0, 2, -1, 0, 0])), Shape('Row'), Position(0.7219559025097664), Position(0.45902382245793727), Size(0.18976239929403405), Size(0.21133666623377348)), mul(aggmax(ARG0, Shape('Rectangle'), Position(0.4938923450644256), Position(0.24322312005810298), Size(0.4906028472578541), Size(0.6422219505521525)), aggmin(ARG0, Shape('Column'), Position(0.1709108877767841), Position(0.8839838561535537), Size(0.44520781771198537), Size(0.27166599587944884))))))\n",
      "inf\n",
      "mul(div(aggmax(Convolution(Pooling(ARG0), Filter([-2, 1, -1, -3, -2, 1, -3, -3, 2])), Shape('Rectangle'), Position(0.7196368218682043), Position(0.7520611250879389), Size(0.2536563169958542), Size(0.5854789238125047)), aggmin(Pooling(Convolution(ARG0, Filter([-3, 2, 2, 0, -2, 1, -1, -1, 1]))), Shape('Rectangle'), Position(0.2950202877460263), Position(0.8609027493031199), Size(0.5179256129338494), Size(0.4320479332389463))), sub(aggmax(Pooling(Convolution(ARG0, Filter([-3, 1, 1, 1, -2, -2, 3, 2, -3]))), Shape('Column'), Position(0.13443338899753907), Position(0.4070840449592438), Size(0.40990888499660516), Size(0.7423502711266131)), sub(aggmin(Convolution(ARG0, Filter([-2, 2, -1, 0, 0, 2, -1, 0, 0])), Shape('Row'), Position(0.7219559025097664), Position(0.45902382245793727), Size(0.18976239929403405), Size(0.21133666623377348)), mul(aggmax(ARG0, Shape('Rectangle'), Position(0.4938923450644256), Position(0.24322312005810298), Size(0.4906028472578541), Size(0.6422219505521525)), aggmin(ARG0, Shape('Column'), Position(0.1709108877767841), Position(0.8839838561535537), Size(0.44520781771198537), Size(0.27166599587944884))))))\n",
      "inf\n",
      "mul(div(aggmax(Convolution(Pooling(ARG0), Filter([-2, 1, -1, -3, -2, 1, -3, -3, 2])), Shape('Rectangle'), Position(0.7196368218682043), Position(0.7520611250879389), Size(0.2536563169958542), Size(0.5854789238125047)), aggmin(Pooling(Convolution(ARG0, Filter([-3, 2, 2, 0, -2, 1, -1, -1, 1]))), Shape('Rectangle'), Position(0.2950202877460263), Position(0.8609027493031199), Size(0.5179256129338494), Size(0.4320479332389463))), sub(aggmax(Pooling(Convolution(ARG0, Filter([-3, 1, 1, 1, -2, -2, 3, 2, -3]))), Shape('Column'), Position(0.13443338899753907), Position(0.4070840449592438), Size(0.40990888499660516), Size(0.7423502711266131)), sub(aggmin(Convolution(ARG0, Filter([-2, 2, -1, 0, 0, 2, -1, 0, 0])), Shape('Row'), Position(0.7219559025097664), Position(0.45902382245793727), Size(0.18976239929403405), Size(0.21133666623377348)), mul(aggmax(ARG0, Shape('Rectangle'), Position(0.4938923450644256), Position(0.24322312005810298), Size(0.4906028472578541), Size(0.6422219505521525)), aggmin(ARG0, Shape('Column'), Position(0.1709108877767841), Position(0.8839838561535537), Size(0.44520781771198537), Size(0.27166599587944884))))))\n",
      "inf\n",
      "mul(div(aggmax(Convolution(Pooling(ARG0), Filter([-2, 1, -1, -3, -2, 1, -3, -3, 2])), Shape('Rectangle'), Position(0.7196368218682043), Position(0.7520611250879389), Size(0.2536563169958542), Size(0.5854789238125047)), aggmin(Pooling(Convolution(ARG0, Filter([-3, 2, 2, 0, -2, 1, -1, -1, 1]))), Shape('Rectangle'), Position(0.2950202877460263), Position(0.8609027493031199), Size(0.5179256129338494), Size(0.4320479332389463))), sub(aggmax(Pooling(Convolution(ARG0, Filter([-3, 1, 1, 1, -2, -2, 3, 2, -3]))), Shape('Column'), Position(0.13443338899753907), Position(0.4070840449592438), Size(0.40990888499660516), Size(0.7423502711266131)), sub(aggmin(Convolution(ARG0, Filter([-2, 2, -1, 0, 0, 2, -1, 0, 0])), Shape('Row'), Position(0.7219559025097664), Position(0.45902382245793727), Size(0.18976239929403405), Size(0.21133666623377348)), mul(aggmax(ARG0, Shape('Rectangle'), Position(0.4938923450644256), Position(0.24322312005810298), Size(0.4906028472578541), Size(0.6422219505521525)), aggmin(ARG0, Shape('Column'), Position(0.1709108877767841), Position(0.8839838561535537), Size(0.44520781771198537), Size(0.27166599587944884))))))\n",
      "inf\n",
      "mul(div(aggmax(Convolution(Pooling(ARG0), Filter([-2, 1, -1, -3, -2, 1, -3, -3, 2])), Shape('Rectangle'), Position(0.7196368218682043), Position(0.7520611250879389), Size(0.2536563169958542), Size(0.5854789238125047)), aggmin(Pooling(Convolution(ARG0, Filter([-3, 2, 2, 0, -2, 1, -1, -1, 1]))), Shape('Rectangle'), Position(0.2950202877460263), Position(0.8609027493031199), Size(0.5179256129338494), Size(0.4320479332389463))), sub(aggmax(Pooling(Convolution(ARG0, Filter([-3, 1, 1, 1, -2, -2, 3, 2, -3]))), Shape('Column'), Position(0.13443338899753907), Position(0.4070840449592438), Size(0.40990888499660516), Size(0.7423502711266131)), sub(aggmin(Convolution(ARG0, Filter([-2, 2, -1, 0, 0, 2, -1, 0, 0])), Shape('Row'), Position(0.7219559025097664), Position(0.45902382245793727), Size(0.18976239929403405), Size(0.21133666623377348)), mul(aggmax(ARG0, Shape('Rectangle'), Position(0.4938923450644256), Position(0.24322312005810298), Size(0.4906028472578541), Size(0.6422219505521525)), aggmin(ARG0, Shape('Column'), Position(0.1709108877767841), Position(0.8839838561535537), Size(0.44520781771198537), Size(0.27166599587944884))))))\n",
      "inf\n",
      "mul(div(aggmax(Convolution(Pooling(ARG0), Filter([-2, 1, -1, -3, -2, 1, -3, -3, 2])), Shape('Rectangle'), Position(0.7196368218682043), Position(0.7520611250879389), Size(0.2536563169958542), Size(0.5854789238125047)), aggmin(Pooling(Convolution(ARG0, Filter([-3, 2, 2, 0, -2, 1, -1, -1, 1]))), Shape('Rectangle'), Position(0.2950202877460263), Position(0.8609027493031199), Size(0.5179256129338494), Size(0.4320479332389463))), sub(aggmax(Pooling(Convolution(ARG0, Filter([-3, 1, 1, 1, -2, -2, 3, 2, -3]))), Shape('Column'), Position(0.13443338899753907), Position(0.4070840449592438), Size(0.40990888499660516), Size(0.7423502711266131)), sub(aggmin(Convolution(ARG0, Filter([-2, 2, -1, 0, 0, 2, -1, 0, 0])), Shape('Row'), Position(0.7219559025097664), Position(0.45902382245793727), Size(0.18976239929403405), Size(0.21133666623377348)), mul(aggmax(ARG0, Shape('Rectangle'), Position(0.4938923450644256), Position(0.24322312005810298), Size(0.4906028472578541), Size(0.6422219505521525)), aggmin(ARG0, Shape('Column'), Position(0.1709108877767841), Position(0.8839838561535537), Size(0.44520781771198537), Size(0.27166599587944884))))))\n",
      "inf\n",
      "mul(div(aggmax(Convolution(Pooling(ARG0), Filter([-2, 1, -1, -3, -2, 1, -3, -3, 2])), Shape('Rectangle'), Position(0.7196368218682043), Position(0.7520611250879389), Size(0.2536563169958542), Size(0.5854789238125047)), aggmin(Pooling(Convolution(ARG0, Filter([-3, 2, 2, 0, -2, 1, -1, -1, 1]))), Shape('Rectangle'), Position(0.2950202877460263), Position(0.8609027493031199), Size(0.5179256129338494), Size(0.4320479332389463))), sub(aggmax(Pooling(Convolution(ARG0, Filter([-3, 1, 1, 1, -2, -2, 3, 2, -3]))), Shape('Column'), Position(0.13443338899753907), Position(0.4070840449592438), Size(0.40990888499660516), Size(0.7423502711266131)), sub(aggmin(Convolution(ARG0, Filter([-2, 2, -1, 0, 0, 2, -1, 0, 0])), Shape('Row'), Position(0.7219559025097664), Position(0.45902382245793727), Size(0.18976239929403405), Size(0.21133666623377348)), mul(aggmax(ARG0, Shape('Rectangle'), Position(0.4938923450644256), Position(0.24322312005810298), Size(0.4906028472578541), Size(0.6422219505521525)), aggmin(ARG0, Shape('Column'), Position(0.1709108877767841), Position(0.8839838561535537), Size(0.44520781771198537), Size(0.27166599587944884))))))\n",
      "inf\n",
      "mul(div(aggmax(Convolution(Pooling(ARG0), Filter([-2, 1, -1, -3, -2, 1, -3, -3, 2])), Shape('Rectangle'), Position(0.7196368218682043), Position(0.7520611250879389), Size(0.2536563169958542), Size(0.5854789238125047)), aggmin(Pooling(Convolution(ARG0, Filter([-3, 2, 2, 0, -2, 1, -1, -1, 1]))), Shape('Rectangle'), Position(0.2950202877460263), Position(0.8609027493031199), Size(0.5179256129338494), Size(0.4320479332389463))), sub(aggmax(Pooling(Convolution(ARG0, Filter([-3, 1, 1, 1, -2, -2, 3, 2, -3]))), Shape('Column'), Position(0.13443338899753907), Position(0.4070840449592438), Size(0.40990888499660516), Size(0.7423502711266131)), sub(aggmin(Convolution(ARG0, Filter([-2, 2, -1, 0, 0, 2, -1, 0, 0])), Shape('Row'), Position(0.7219559025097664), Position(0.45902382245793727), Size(0.18976239929403405), Size(0.21133666623377348)), mul(aggmax(ARG0, Shape('Rectangle'), Position(0.4938923450644256), Position(0.24322312005810298), Size(0.4906028472578541), Size(0.6422219505521525)), aggmin(ARG0, Shape('Column'), Position(0.1709108877767841), Position(0.8839838561535537), Size(0.44520781771198537), Size(0.27166599587944884))))))\n",
      "inf\n",
      "mul(div(aggmax(Convolution(Pooling(ARG0), Filter([-2, 1, -1, -3, -2, 1, -3, -3, 2])), Shape('Rectangle'), Position(0.7196368218682043), Position(0.7520611250879389), Size(0.2536563169958542), Size(0.5854789238125047)), aggmin(Pooling(Convolution(ARG0, Filter([-3, 2, 2, 0, -2, 1, -1, -1, 1]))), Shape('Rectangle'), Position(0.2950202877460263), Position(0.8609027493031199), Size(0.5179256129338494), Size(0.4320479332389463))), sub(aggmax(Pooling(Convolution(ARG0, Filter([-3, 1, 1, 1, -2, -2, 3, 2, -3]))), Shape('Column'), Position(0.13443338899753907), Position(0.4070840449592438), Size(0.40990888499660516), Size(0.7423502711266131)), sub(aggmin(Convolution(ARG0, Filter([-2, 2, -1, 0, 0, 2, -1, 0, 0])), Shape('Row'), Position(0.7219559025097664), Position(0.45902382245793727), Size(0.18976239929403405), Size(0.21133666623377348)), mul(aggmax(ARG0, Shape('Rectangle'), Position(0.4938923450644256), Position(0.24322312005810298), Size(0.4906028472578541), Size(0.6422219505521525)), aggmin(ARG0, Shape('Column'), Position(0.1709108877767841), Position(0.8839838561535537), Size(0.44520781771198537), Size(0.27166599587944884))))))\n",
      "inf\n",
      "mul(div(aggmax(Convolution(Pooling(ARG0), Filter([-2, 1, -1, -3, -2, 1, -3, -3, 2])), Shape('Rectangle'), Position(0.7196368218682043), Position(0.7520611250879389), Size(0.2536563169958542), Size(0.5854789238125047)), aggmin(Pooling(Convolution(ARG0, Filter([-3, 2, 2, 0, -2, 1, -1, -1, 1]))), Shape('Rectangle'), Position(0.2950202877460263), Position(0.8609027493031199), Size(0.5179256129338494), Size(0.4320479332389463))), sub(aggmax(Pooling(Convolution(ARG0, Filter([-3, 1, 1, 1, -2, -2, 3, 2, -3]))), Shape('Column'), Position(0.13443338899753907), Position(0.4070840449592438), Size(0.40990888499660516), Size(0.7423502711266131)), sub(aggmin(Convolution(ARG0, Filter([-2, 2, -1, 0, 0, 2, -1, 0, 0])), Shape('Row'), Position(0.7219559025097664), Position(0.45902382245793727), Size(0.18976239929403405), Size(0.21133666623377348)), mul(aggmax(ARG0, Shape('Rectangle'), Position(0.4938923450644256), Position(0.24322312005810298), Size(0.4906028472578541), Size(0.6422219505521525)), aggmin(ARG0, Shape('Column'), Position(0.1709108877767841), Position(0.8839838561535537), Size(0.44520781771198537), Size(0.27166599587944884))))))\n",
      "nan\n",
      "mul(div(aggmax(Convolution(Pooling(ARG0), Filter([-2, 1, -1, -3, -2, 1, -3, -3, 2])), Shape('Rectangle'), Position(0.7196368218682043), Position(0.7520611250879389), Size(0.2536563169958542), Size(0.5854789238125047)), aggmin(Pooling(Convolution(ARG0, Filter([-3, 2, 2, 0, -2, 1, -1, -1, 1]))), Shape('Rectangle'), Position(0.2950202877460263), Position(0.8609027493031199), Size(0.5179256129338494), Size(0.4320479332389463))), sub(aggmax(Pooling(Convolution(ARG0, Filter([-3, 1, 1, 1, -2, -2, 3, 2, -3]))), Shape('Column'), Position(0.13443338899753907), Position(0.4070840449592438), Size(0.40990888499660516), Size(0.7423502711266131)), sub(aggmin(Convolution(ARG0, Filter([-2, 2, -1, 0, 0, 2, -1, 0, 0])), Shape('Row'), Position(0.7219559025097664), Position(0.45902382245793727), Size(0.18976239929403405), Size(0.21133666623377348)), mul(aggmax(ARG0, Shape('Rectangle'), Position(0.4938923450644256), Position(0.24322312005810298), Size(0.4906028472578541), Size(0.6422219505521525)), aggmin(ARG0, Shape('Column'), Position(0.1709108877767841), Position(0.8839838561535537), Size(0.44520781771198537), Size(0.27166599587944884))))))\n",
      "inf\n",
      "mul(div(aggmax(Convolution(Pooling(ARG0), Filter([-2, 1, -1, -3, -2, 1, -3, -3, 2])), Shape('Rectangle'), Position(0.7196368218682043), Position(0.7520611250879389), Size(0.2536563169958542), Size(0.5854789238125047)), aggmin(Pooling(Convolution(ARG0, Filter([-3, 2, 2, 0, -2, 1, -1, -1, 1]))), Shape('Rectangle'), Position(0.2950202877460263), Position(0.8609027493031199), Size(0.5179256129338494), Size(0.4320479332389463))), sub(aggmax(Pooling(Convolution(ARG0, Filter([-3, 1, 1, 1, -2, -2, 3, 2, -3]))), Shape('Column'), Position(0.13443338899753907), Position(0.4070840449592438), Size(0.40990888499660516), Size(0.7423502711266131)), sub(aggmin(Convolution(ARG0, Filter([-2, 2, -1, 0, 0, 2, -1, 0, 0])), Shape('Row'), Position(0.7219559025097664), Position(0.45902382245793727), Size(0.18976239929403405), Size(0.21133666623377348)), mul(aggmax(ARG0, Shape('Rectangle'), Position(0.4938923450644256), Position(0.24322312005810298), Size(0.4906028472578541), Size(0.6422219505521525)), aggmin(ARG0, Shape('Column'), Position(0.1709108877767841), Position(0.8839838561535537), Size(0.44520781771198537), Size(0.27166599587944884))))))\n",
      "inf\n",
      "mul(div(aggmax(Convolution(Pooling(ARG0), Filter([-2, 1, -1, -3, -2, 1, -3, -3, 2])), Shape('Rectangle'), Position(0.7196368218682043), Position(0.7520611250879389), Size(0.2536563169958542), Size(0.5854789238125047)), aggmin(Pooling(Convolution(ARG0, Filter([-3, 2, 2, 0, -2, 1, -1, -1, 1]))), Shape('Rectangle'), Position(0.2950202877460263), Position(0.8609027493031199), Size(0.5179256129338494), Size(0.4320479332389463))), sub(aggmax(Pooling(Convolution(ARG0, Filter([-3, 1, 1, 1, -2, -2, 3, 2, -3]))), Shape('Column'), Position(0.13443338899753907), Position(0.4070840449592438), Size(0.40990888499660516), Size(0.7423502711266131)), sub(aggmin(Convolution(ARG0, Filter([-2, 2, -1, 0, 0, 2, -1, 0, 0])), Shape('Row'), Position(0.7219559025097664), Position(0.45902382245793727), Size(0.18976239929403405), Size(0.21133666623377348)), mul(aggmax(ARG0, Shape('Rectangle'), Position(0.4938923450644256), Position(0.24322312005810298), Size(0.4906028472578541), Size(0.6422219505521525)), aggmin(ARG0, Shape('Column'), Position(0.1709108877767841), Position(0.8839838561535537), Size(0.44520781771198537), Size(0.27166599587944884))))))\n",
      "inf\n",
      "mul(div(aggmax(Convolution(Pooling(ARG0), Filter([-2, 1, -1, -3, -2, 1, -3, -3, 2])), Shape('Rectangle'), Position(0.7196368218682043), Position(0.7520611250879389), Size(0.2536563169958542), Size(0.5854789238125047)), aggmin(Pooling(Convolution(ARG0, Filter([-3, 2, 2, 0, -2, 1, -1, -1, 1]))), Shape('Rectangle'), Position(0.2950202877460263), Position(0.8609027493031199), Size(0.5179256129338494), Size(0.4320479332389463))), sub(aggmax(Pooling(Convolution(ARG0, Filter([-3, 1, 1, 1, -2, -2, 3, 2, -3]))), Shape('Column'), Position(0.13443338899753907), Position(0.4070840449592438), Size(0.40990888499660516), Size(0.7423502711266131)), sub(aggmin(Convolution(ARG0, Filter([-2, 2, -1, 0, 0, 2, -1, 0, 0])), Shape('Row'), Position(0.7219559025097664), Position(0.45902382245793727), Size(0.18976239929403405), Size(0.21133666623377348)), mul(aggmax(ARG0, Shape('Rectangle'), Position(0.4938923450644256), Position(0.24322312005810298), Size(0.4906028472578541), Size(0.6422219505521525)), aggmin(ARG0, Shape('Column'), Position(0.1709108877767841), Position(0.8839838561535537), Size(0.44520781771198537), Size(0.27166599587944884))))))\n",
      "nan\n",
      "mul(div(aggmax(Convolution(Pooling(ARG0), Filter([-2, 1, -1, -3, -2, 1, -3, -3, 2])), Shape('Rectangle'), Position(0.7196368218682043), Position(0.7520611250879389), Size(0.2536563169958542), Size(0.5854789238125047)), aggmin(Pooling(Convolution(ARG0, Filter([-3, 2, 2, 0, -2, 1, -1, -1, 1]))), Shape('Rectangle'), Position(0.2950202877460263), Position(0.8609027493031199), Size(0.5179256129338494), Size(0.4320479332389463))), sub(aggmax(Pooling(Convolution(ARG0, Filter([-3, 1, 1, 1, -2, -2, 3, 2, -3]))), Shape('Column'), Position(0.13443338899753907), Position(0.4070840449592438), Size(0.40990888499660516), Size(0.7423502711266131)), sub(aggmin(Convolution(ARG0, Filter([-2, 2, -1, 0, 0, 2, -1, 0, 0])), Shape('Row'), Position(0.7219559025097664), Position(0.45902382245793727), Size(0.18976239929403405), Size(0.21133666623377348)), mul(aggmax(ARG0, Shape('Rectangle'), Position(0.4938923450644256), Position(0.24322312005810298), Size(0.4906028472578541), Size(0.6422219505521525)), aggmin(ARG0, Shape('Column'), Position(0.1709108877767841), Position(0.8839838561535537), Size(0.44520781771198537), Size(0.27166599587944884))))))\n",
      "inf\n",
      "mul(div(aggmax(Convolution(Pooling(ARG0), Filter([-2, 1, -1, -3, -2, 1, -3, -3, 2])), Shape('Rectangle'), Position(0.7196368218682043), Position(0.7520611250879389), Size(0.2536563169958542), Size(0.5854789238125047)), aggmin(Pooling(Convolution(ARG0, Filter([-3, 2, 2, 0, -2, 1, -1, -1, 1]))), Shape('Rectangle'), Position(0.2950202877460263), Position(0.8609027493031199), Size(0.5179256129338494), Size(0.4320479332389463))), sub(aggmax(Pooling(Convolution(ARG0, Filter([-3, 1, 1, 1, -2, -2, 3, 2, -3]))), Shape('Column'), Position(0.13443338899753907), Position(0.4070840449592438), Size(0.40990888499660516), Size(0.7423502711266131)), sub(aggmin(Convolution(ARG0, Filter([-2, 2, -1, 0, 0, 2, -1, 0, 0])), Shape('Row'), Position(0.7219559025097664), Position(0.45902382245793727), Size(0.18976239929403405), Size(0.21133666623377348)), mul(aggmax(ARG0, Shape('Rectangle'), Position(0.4938923450644256), Position(0.24322312005810298), Size(0.4906028472578541), Size(0.6422219505521525)), aggmin(ARG0, Shape('Column'), Position(0.1709108877767841), Position(0.8839838561535537), Size(0.44520781771198537), Size(0.27166599587944884))))))\n",
      "inf\n",
      "mul(div(aggmax(Convolution(Pooling(ARG0), Filter([-2, 1, -1, -3, -2, 1, -3, -3, 2])), Shape('Rectangle'), Position(0.7196368218682043), Position(0.7520611250879389), Size(0.2536563169958542), Size(0.5854789238125047)), aggmin(Pooling(Convolution(ARG0, Filter([-3, 2, 2, 0, -2, 1, -1, -1, 1]))), Shape('Rectangle'), Position(0.2950202877460263), Position(0.8609027493031199), Size(0.5179256129338494), Size(0.4320479332389463))), sub(aggmax(Pooling(Convolution(ARG0, Filter([-3, 1, 1, 1, -2, -2, 3, 2, -3]))), Shape('Column'), Position(0.13443338899753907), Position(0.4070840449592438), Size(0.40990888499660516), Size(0.7423502711266131)), sub(aggmin(Convolution(ARG0, Filter([-2, 2, -1, 0, 0, 2, -1, 0, 0])), Shape('Row'), Position(0.7219559025097664), Position(0.45902382245793727), Size(0.18976239929403405), Size(0.21133666623377348)), mul(aggmax(ARG0, Shape('Rectangle'), Position(0.4938923450644256), Position(0.24322312005810298), Size(0.4906028472578541), Size(0.6422219505521525)), aggmin(ARG0, Shape('Column'), Position(0.1709108877767841), Position(0.8839838561535537), Size(0.44520781771198537), Size(0.27166599587944884))))))\n",
      "inf\n",
      "mul(div(aggmax(Convolution(Pooling(ARG0), Filter([-2, 1, -1, -3, -2, 1, -3, -3, 2])), Shape('Rectangle'), Position(0.7196368218682043), Position(0.7520611250879389), Size(0.2536563169958542), Size(0.5854789238125047)), aggmin(Pooling(Convolution(ARG0, Filter([-3, 2, 2, 0, -2, 1, -1, -1, 1]))), Shape('Rectangle'), Position(0.2950202877460263), Position(0.8609027493031199), Size(0.5179256129338494), Size(0.4320479332389463))), sub(aggmax(Pooling(Convolution(ARG0, Filter([-3, 1, 1, 1, -2, -2, 3, 2, -3]))), Shape('Column'), Position(0.13443338899753907), Position(0.4070840449592438), Size(0.40990888499660516), Size(0.7423502711266131)), sub(aggmin(Convolution(ARG0, Filter([-2, 2, -1, 0, 0, 2, -1, 0, 0])), Shape('Row'), Position(0.7219559025097664), Position(0.45902382245793727), Size(0.18976239929403405), Size(0.21133666623377348)), mul(aggmax(ARG0, Shape('Rectangle'), Position(0.4938923450644256), Position(0.24322312005810298), Size(0.4906028472578541), Size(0.6422219505521525)), aggmin(ARG0, Shape('Column'), Position(0.1709108877767841), Position(0.8839838561535537), Size(0.44520781771198537), Size(0.27166599587944884))))))\n",
      "inf\n",
      "mul(div(aggmax(Convolution(Pooling(ARG0), Filter([-2, 1, -1, -3, -2, 1, -3, -3, 2])), Shape('Rectangle'), Position(0.7196368218682043), Position(0.7520611250879389), Size(0.2536563169958542), Size(0.5854789238125047)), aggmin(Pooling(Convolution(ARG0, Filter([-3, 2, 2, 0, -2, 1, -1, -1, 1]))), Shape('Rectangle'), Position(0.2950202877460263), Position(0.8609027493031199), Size(0.5179256129338494), Size(0.4320479332389463))), sub(aggmax(Pooling(Convolution(ARG0, Filter([-3, 1, 1, 1, -2, -2, 3, 2, -3]))), Shape('Column'), Position(0.13443338899753907), Position(0.4070840449592438), Size(0.40990888499660516), Size(0.7423502711266131)), sub(aggmin(Convolution(ARG0, Filter([-2, 2, -1, 0, 0, 2, -1, 0, 0])), Shape('Row'), Position(0.7219559025097664), Position(0.45902382245793727), Size(0.18976239929403405), Size(0.21133666623377348)), mul(aggmax(ARG0, Shape('Rectangle'), Position(0.4938923450644256), Position(0.24322312005810298), Size(0.4906028472578541), Size(0.6422219505521525)), aggmin(ARG0, Shape('Column'), Position(0.1709108877767841), Position(0.8839838561535537), Size(0.44520781771198537), Size(0.27166599587944884))))))\n",
      "nan\n",
      "mul(div(aggmax(Convolution(Pooling(ARG0), Filter([-2, 1, -1, -3, -2, 1, -3, -3, 2])), Shape('Rectangle'), Position(0.7196368218682043), Position(0.7520611250879389), Size(0.2536563169958542), Size(0.5854789238125047)), aggmin(Pooling(Convolution(ARG0, Filter([-3, 2, 2, 0, -2, 1, -1, -1, 1]))), Shape('Rectangle'), Position(0.2950202877460263), Position(0.8609027493031199), Size(0.5179256129338494), Size(0.4320479332389463))), sub(aggmax(Pooling(Convolution(ARG0, Filter([-3, 1, 1, 1, -2, -2, 3, 2, -3]))), Shape('Column'), Position(0.13443338899753907), Position(0.4070840449592438), Size(0.40990888499660516), Size(0.7423502711266131)), sub(aggmin(Convolution(ARG0, Filter([-2, 2, -1, 0, 0, 2, -1, 0, 0])), Shape('Row'), Position(0.7219559025097664), Position(0.45902382245793727), Size(0.18976239929403405), Size(0.21133666623377348)), mul(aggmax(ARG0, Shape('Rectangle'), Position(0.4938923450644256), Position(0.24322312005810298), Size(0.4906028472578541), Size(0.6422219505521525)), aggmin(ARG0, Shape('Column'), Position(0.1709108877767841), Position(0.8839838561535537), Size(0.44520781771198537), Size(0.27166599587944884))))))\n",
      "nan\n",
      "mul(div(aggmax(Convolution(Pooling(ARG0), Filter([-2, 1, -1, -3, -2, 1, -3, -3, 2])), Shape('Rectangle'), Position(0.7196368218682043), Position(0.7520611250879389), Size(0.2536563169958542), Size(0.5854789238125047)), aggmin(Pooling(Convolution(ARG0, Filter([-3, 2, 2, 0, -2, 1, -1, -1, 1]))), Shape('Rectangle'), Position(0.2950202877460263), Position(0.8609027493031199), Size(0.5179256129338494), Size(0.4320479332389463))), sub(aggmax(Pooling(Convolution(ARG0, Filter([-3, 1, 1, 1, -2, -2, 3, 2, -3]))), Shape('Column'), Position(0.13443338899753907), Position(0.4070840449592438), Size(0.40990888499660516), Size(0.7423502711266131)), sub(aggmin(Convolution(ARG0, Filter([-2, 2, -1, 0, 0, 2, -1, 0, 0])), Shape('Row'), Position(0.7219559025097664), Position(0.45902382245793727), Size(0.18976239929403405), Size(0.21133666623377348)), mul(aggmax(ARG0, Shape('Rectangle'), Position(0.4938923450644256), Position(0.24322312005810298), Size(0.4906028472578541), Size(0.6422219505521525)), aggmin(ARG0, Shape('Column'), Position(0.1709108877767841), Position(0.8839838561535537), Size(0.44520781771198537), Size(0.27166599587944884))))))\n",
      "nan\n",
      "mul(div(aggmax(Convolution(Pooling(ARG0), Filter([-2, 1, -1, -3, -2, 1, -3, -3, 2])), Shape('Rectangle'), Position(0.7196368218682043), Position(0.7520611250879389), Size(0.2536563169958542), Size(0.5854789238125047)), aggmin(Pooling(Convolution(ARG0, Filter([-3, 2, 2, 0, -2, 1, -1, -1, 1]))), Shape('Rectangle'), Position(0.2950202877460263), Position(0.8609027493031199), Size(0.5179256129338494), Size(0.4320479332389463))), sub(aggmax(Pooling(Convolution(ARG0, Filter([-3, 1, 1, 1, -2, -2, 3, 2, -3]))), Shape('Column'), Position(0.13443338899753907), Position(0.4070840449592438), Size(0.40990888499660516), Size(0.7423502711266131)), sub(aggmin(Convolution(ARG0, Filter([-2, 2, -1, 0, 0, 2, -1, 0, 0])), Shape('Row'), Position(0.7219559025097664), Position(0.45902382245793727), Size(0.18976239929403405), Size(0.21133666623377348)), mul(aggmax(ARG0, Shape('Rectangle'), Position(0.4938923450644256), Position(0.24322312005810298), Size(0.4906028472578541), Size(0.6422219505521525)), aggmin(ARG0, Shape('Column'), Position(0.1709108877767841), Position(0.8839838561535537), Size(0.44520781771198537), Size(0.27166599587944884))))))\n",
      "inf\n",
      "mul(div(aggmax(Convolution(Pooling(ARG0), Filter([-2, 1, -1, -3, -2, 1, -3, -3, 2])), Shape('Rectangle'), Position(0.7196368218682043), Position(0.7520611250879389), Size(0.2536563169958542), Size(0.5854789238125047)), aggmin(Pooling(Convolution(ARG0, Filter([-3, 2, 2, 0, -2, 1, -1, -1, 1]))), Shape('Rectangle'), Position(0.2950202877460263), Position(0.8609027493031199), Size(0.5179256129338494), Size(0.4320479332389463))), sub(aggmax(Pooling(Convolution(ARG0, Filter([-3, 1, 1, 1, -2, -2, 3, 2, -3]))), Shape('Column'), Position(0.13443338899753907), Position(0.4070840449592438), Size(0.40990888499660516), Size(0.7423502711266131)), sub(aggmin(Convolution(ARG0, Filter([-2, 2, -1, 0, 0, 2, -1, 0, 0])), Shape('Row'), Position(0.7219559025097664), Position(0.45902382245793727), Size(0.18976239929403405), Size(0.21133666623377348)), mul(aggmax(ARG0, Shape('Rectangle'), Position(0.4938923450644256), Position(0.24322312005810298), Size(0.4906028472578541), Size(0.6422219505521525)), aggmin(ARG0, Shape('Column'), Position(0.1709108877767841), Position(0.8839838561535537), Size(0.44520781771198537), Size(0.27166599587944884))))))\n",
      "inf\n",
      "mul(div(aggmax(Convolution(Pooling(ARG0), Filter([-2, 1, -1, -3, -2, 1, -3, -3, 2])), Shape('Rectangle'), Position(0.7196368218682043), Position(0.7520611250879389), Size(0.2536563169958542), Size(0.5854789238125047)), aggmin(Pooling(Convolution(ARG0, Filter([-3, 2, 2, 0, -2, 1, -1, -1, 1]))), Shape('Rectangle'), Position(0.2950202877460263), Position(0.8609027493031199), Size(0.5179256129338494), Size(0.4320479332389463))), sub(aggmax(Pooling(Convolution(ARG0, Filter([-3, 1, 1, 1, -2, -2, 3, 2, -3]))), Shape('Column'), Position(0.13443338899753907), Position(0.4070840449592438), Size(0.40990888499660516), Size(0.7423502711266131)), sub(aggmin(Convolution(ARG0, Filter([-2, 2, -1, 0, 0, 2, -1, 0, 0])), Shape('Row'), Position(0.7219559025097664), Position(0.45902382245793727), Size(0.18976239929403405), Size(0.21133666623377348)), mul(aggmax(ARG0, Shape('Rectangle'), Position(0.4938923450644256), Position(0.24322312005810298), Size(0.4906028472578541), Size(0.6422219505521525)), aggmin(ARG0, Shape('Column'), Position(0.1709108877767841), Position(0.8839838561535537), Size(0.44520781771198537), Size(0.27166599587944884))))))\n",
      "inf\n",
      "mul(div(aggmax(Convolution(Pooling(ARG0), Filter([-2, 1, -1, -3, -2, 1, -3, -3, 2])), Shape('Rectangle'), Position(0.7196368218682043), Position(0.7520611250879389), Size(0.2536563169958542), Size(0.5854789238125047)), aggmin(Pooling(Convolution(ARG0, Filter([-3, 2, 2, 0, -2, 1, -1, -1, 1]))), Shape('Rectangle'), Position(0.2950202877460263), Position(0.8609027493031199), Size(0.5179256129338494), Size(0.4320479332389463))), sub(aggmax(Pooling(Convolution(ARG0, Filter([-3, 1, 1, 1, -2, -2, 3, 2, -3]))), Shape('Column'), Position(0.13443338899753907), Position(0.4070840449592438), Size(0.40990888499660516), Size(0.7423502711266131)), sub(aggmin(Convolution(ARG0, Filter([-2, 2, -1, 0, 0, 2, -1, 0, 0])), Shape('Row'), Position(0.7219559025097664), Position(0.45902382245793727), Size(0.18976239929403405), Size(0.21133666623377348)), mul(aggmax(ARG0, Shape('Rectangle'), Position(0.4938923450644256), Position(0.24322312005810298), Size(0.4906028472578541), Size(0.6422219505521525)), aggmin(ARG0, Shape('Column'), Position(0.1709108877767841), Position(0.8839838561535537), Size(0.44520781771198537), Size(0.27166599587944884))))))\n",
      "inf\n",
      "mul(div(aggmax(Convolution(Pooling(ARG0), Filter([-2, 1, -1, -3, -2, 1, -3, -3, 2])), Shape('Rectangle'), Position(0.7196368218682043), Position(0.7520611250879389), Size(0.2536563169958542), Size(0.5854789238125047)), aggmin(Pooling(Convolution(ARG0, Filter([-3, 2, 2, 0, -2, 1, -1, -1, 1]))), Shape('Rectangle'), Position(0.2950202877460263), Position(0.8609027493031199), Size(0.5179256129338494), Size(0.4320479332389463))), sub(aggmax(Pooling(Convolution(ARG0, Filter([-3, 1, 1, 1, -2, -2, 3, 2, -3]))), Shape('Column'), Position(0.13443338899753907), Position(0.4070840449592438), Size(0.40990888499660516), Size(0.7423502711266131)), sub(aggmin(Convolution(ARG0, Filter([-2, 2, -1, 0, 0, 2, -1, 0, 0])), Shape('Row'), Position(0.7219559025097664), Position(0.45902382245793727), Size(0.18976239929403405), Size(0.21133666623377348)), mul(aggmax(ARG0, Shape('Rectangle'), Position(0.4938923450644256), Position(0.24322312005810298), Size(0.4906028472578541), Size(0.6422219505521525)), aggmin(ARG0, Shape('Column'), Position(0.1709108877767841), Position(0.8839838561535537), Size(0.44520781771198537), Size(0.27166599587944884))))))\n",
      "nan\n",
      "mul(div(aggmax(Convolution(Pooling(ARG0), Filter([-2, 1, -1, -3, -2, 1, -3, -3, 2])), Shape('Rectangle'), Position(0.7196368218682043), Position(0.7520611250879389), Size(0.2536563169958542), Size(0.5854789238125047)), aggmin(Pooling(Convolution(ARG0, Filter([-3, 2, 2, 0, -2, 1, -1, -1, 1]))), Shape('Rectangle'), Position(0.2950202877460263), Position(0.8609027493031199), Size(0.5179256129338494), Size(0.4320479332389463))), sub(aggmax(Pooling(Convolution(ARG0, Filter([-3, 1, 1, 1, -2, -2, 3, 2, -3]))), Shape('Column'), Position(0.13443338899753907), Position(0.4070840449592438), Size(0.40990888499660516), Size(0.7423502711266131)), sub(aggmin(Convolution(ARG0, Filter([-2, 2, -1, 0, 0, 2, -1, 0, 0])), Shape('Row'), Position(0.7219559025097664), Position(0.45902382245793727), Size(0.18976239929403405), Size(0.21133666623377348)), mul(aggmax(ARG0, Shape('Rectangle'), Position(0.4938923450644256), Position(0.24322312005810298), Size(0.4906028472578541), Size(0.6422219505521525)), aggmin(ARG0, Shape('Column'), Position(0.1709108877767841), Position(0.8839838561535537), Size(0.44520781771198537), Size(0.27166599587944884))))))\n",
      "inf\n",
      "mul(div(aggmax(Convolution(Pooling(ARG0), Filter([-2, 1, -1, -3, -2, 1, -3, -3, 2])), Shape('Rectangle'), Position(0.7196368218682043), Position(0.7520611250879389), Size(0.2536563169958542), Size(0.5854789238125047)), aggmin(Pooling(Convolution(ARG0, Filter([-3, 2, 2, 0, -2, 1, -1, -1, 1]))), Shape('Rectangle'), Position(0.2950202877460263), Position(0.8609027493031199), Size(0.5179256129338494), Size(0.4320479332389463))), sub(aggmax(Pooling(Convolution(ARG0, Filter([-3, 1, 1, 1, -2, -2, 3, 2, -3]))), Shape('Column'), Position(0.13443338899753907), Position(0.4070840449592438), Size(0.40990888499660516), Size(0.7423502711266131)), sub(aggmin(Convolution(ARG0, Filter([-2, 2, -1, 0, 0, 2, -1, 0, 0])), Shape('Row'), Position(0.7219559025097664), Position(0.45902382245793727), Size(0.18976239929403405), Size(0.21133666623377348)), mul(aggmax(ARG0, Shape('Rectangle'), Position(0.4938923450644256), Position(0.24322312005810298), Size(0.4906028472578541), Size(0.6422219505521525)), aggmin(ARG0, Shape('Column'), Position(0.1709108877767841), Position(0.8839838561535537), Size(0.44520781771198537), Size(0.27166599587944884))))))\n",
      "inf\n",
      "mul(div(aggmax(Convolution(Pooling(ARG0), Filter([-2, 1, -1, -3, -2, 1, -3, -3, 2])), Shape('Rectangle'), Position(0.7196368218682043), Position(0.7520611250879389), Size(0.2536563169958542), Size(0.5854789238125047)), aggmin(Pooling(Convolution(ARG0, Filter([-3, 2, 2, 0, -2, 1, -1, -1, 1]))), Shape('Rectangle'), Position(0.2950202877460263), Position(0.8609027493031199), Size(0.5179256129338494), Size(0.4320479332389463))), sub(aggmax(Pooling(Convolution(ARG0, Filter([-3, 1, 1, 1, -2, -2, 3, 2, -3]))), Shape('Column'), Position(0.13443338899753907), Position(0.4070840449592438), Size(0.40990888499660516), Size(0.7423502711266131)), sub(aggmin(Convolution(ARG0, Filter([-2, 2, -1, 0, 0, 2, -1, 0, 0])), Shape('Row'), Position(0.7219559025097664), Position(0.45902382245793727), Size(0.18976239929403405), Size(0.21133666623377348)), mul(aggmax(ARG0, Shape('Rectangle'), Position(0.4938923450644256), Position(0.24322312005810298), Size(0.4906028472578541), Size(0.6422219505521525)), aggmin(ARG0, Shape('Column'), Position(0.1709108877767841), Position(0.8839838561535537), Size(0.44520781771198537), Size(0.27166599587944884))))))\n",
      "inf\n",
      "mul(div(aggmax(Convolution(Pooling(ARG0), Filter([-2, 1, -1, -3, -2, 1, -3, -3, 2])), Shape('Rectangle'), Position(0.7196368218682043), Position(0.7520611250879389), Size(0.2536563169958542), Size(0.5854789238125047)), aggmin(Pooling(Convolution(ARG0, Filter([-3, 2, 2, 0, -2, 1, -1, -1, 1]))), Shape('Rectangle'), Position(0.2950202877460263), Position(0.8609027493031199), Size(0.5179256129338494), Size(0.4320479332389463))), sub(aggmax(Pooling(Convolution(ARG0, Filter([-3, 1, 1, 1, -2, -2, 3, 2, -3]))), Shape('Column'), Position(0.13443338899753907), Position(0.4070840449592438), Size(0.40990888499660516), Size(0.7423502711266131)), sub(aggmin(Convolution(ARG0, Filter([-2, 2, -1, 0, 0, 2, -1, 0, 0])), Shape('Row'), Position(0.7219559025097664), Position(0.45902382245793727), Size(0.18976239929403405), Size(0.21133666623377348)), mul(aggmax(ARG0, Shape('Rectangle'), Position(0.4938923450644256), Position(0.24322312005810298), Size(0.4906028472578541), Size(0.6422219505521525)), aggmin(ARG0, Shape('Column'), Position(0.1709108877767841), Position(0.8839838561535537), Size(0.44520781771198537), Size(0.27166599587944884))))))\n"
     ]
    },
    {
     "name": "stderr",
     "output_type": "stream",
     "text": [
      "/Users/ben/Documents/Summer Research/helpers.py:85: RuntimeWarning: invalid value encountered in double_scalars\n",
      "  return num / den\n"
     ]
    },
    {
     "ename": "ValueError",
     "evalue": "Input contains NaN, infinity or a value too large for dtype('float64').",
     "output_type": "error",
     "traceback": [
      "\u001b[0;31m---------------------------------------------------------------------------\u001b[0m",
      "\u001b[0;31mValueError\u001b[0m                                Traceback (most recent call last)",
      "\u001b[0;32m<ipython-input-8-dae81a41887e>\u001b[0m in \u001b[0;36m<module>\u001b[0;34m()\u001b[0m\n\u001b[1;32m      2\u001b[0m \u001b[0mseeds\u001b[0m \u001b[0;34m=\u001b[0m \u001b[0;34m[\u001b[0m\u001b[0;36m1\u001b[0m\u001b[0;34m]\u001b[0m\u001b[0;34m\u001b[0m\u001b[0m\n\u001b[1;32m      3\u001b[0m \u001b[0;32mfor\u001b[0m \u001b[0mseed\u001b[0m \u001b[0;32min\u001b[0m \u001b[0mseeds\u001b[0m\u001b[0;34m:\u001b[0m\u001b[0;34m\u001b[0m\u001b[0m\n\u001b[0;32m----> 4\u001b[0;31m     \u001b[0mtraining_accuracy\u001b[0m\u001b[0;34m,\u001b[0m \u001b[0mtesting_accuracy\u001b[0m \u001b[0;34m=\u001b[0m \u001b[0mfit_and_evaluate\u001b[0m\u001b[0;34m(\u001b[0m\u001b[0mconvgp\u001b[0m\u001b[0;34m,\u001b[0m \u001b[0mtrainingX\u001b[0m\u001b[0;34m,\u001b[0m \u001b[0mtrainingY\u001b[0m\u001b[0;34m,\u001b[0m \u001b[0mtestingX\u001b[0m\u001b[0;34m,\u001b[0m \u001b[0mtestingY\u001b[0m\u001b[0;34m,\u001b[0m \u001b[0mseed\u001b[0m\u001b[0;34m=\u001b[0m\u001b[0mseed\u001b[0m\u001b[0;34m)\u001b[0m\u001b[0;34m\u001b[0m\u001b[0m\n\u001b[0m\u001b[1;32m      5\u001b[0m     \u001b[0mprint\u001b[0m\u001b[0;34m(\u001b[0m\u001b[0;34m\"ConvGP: \"\u001b[0m \u001b[0;34m+\u001b[0m \u001b[0mstr\u001b[0m\u001b[0;34m(\u001b[0m\u001b[0mtraining_accuracy\u001b[0m\u001b[0;34m)\u001b[0m \u001b[0;34m+\u001b[0m\u001b[0;34m\", \"\u001b[0m \u001b[0;34m+\u001b[0m \u001b[0mstr\u001b[0m\u001b[0;34m(\u001b[0m\u001b[0mtesting_accuracy\u001b[0m\u001b[0;34m)\u001b[0m\u001b[0;34m)\u001b[0m\u001b[0;34m\u001b[0m\u001b[0m\n",
      "\u001b[0;32m<ipython-input-6-de5ae1dc72b4>\u001b[0m in \u001b[0;36mfit_and_evaluate\u001b[0;34m(model, trainingX, trainingY, testingX, testingY, seed, verbose)\u001b[0m\n\u001b[1;32m      1\u001b[0m \u001b[0;32mdef\u001b[0m \u001b[0mfit_and_evaluate\u001b[0m\u001b[0;34m(\u001b[0m\u001b[0mmodel\u001b[0m\u001b[0;34m,\u001b[0m \u001b[0mtrainingX\u001b[0m\u001b[0;34m,\u001b[0m \u001b[0mtrainingY\u001b[0m\u001b[0;34m,\u001b[0m \u001b[0mtestingX\u001b[0m\u001b[0;34m,\u001b[0m \u001b[0mtestingY\u001b[0m\u001b[0;34m,\u001b[0m \u001b[0mseed\u001b[0m\u001b[0;34m=\u001b[0m\u001b[0;32mNone\u001b[0m\u001b[0;34m,\u001b[0m \u001b[0mverbose\u001b[0m\u001b[0;34m=\u001b[0m\u001b[0;32mFalse\u001b[0m\u001b[0;34m)\u001b[0m\u001b[0;34m:\u001b[0m\u001b[0;34m\u001b[0m\u001b[0m\n\u001b[1;32m      2\u001b[0m     \u001b[0;32mif\u001b[0m \u001b[0mseed\u001b[0m \u001b[0;32mis\u001b[0m \u001b[0;32mnot\u001b[0m \u001b[0;32mNone\u001b[0m\u001b[0;34m:\u001b[0m\u001b[0;34m\u001b[0m\u001b[0m\n\u001b[0;32m----> 3\u001b[0;31m         \u001b[0mmodel\u001b[0m\u001b[0;34m.\u001b[0m\u001b[0mfit\u001b[0m\u001b[0;34m(\u001b[0m\u001b[0mtrainingX\u001b[0m\u001b[0;34m,\u001b[0m \u001b[0mtrainingY\u001b[0m\u001b[0;34m,\u001b[0m \u001b[0mseed\u001b[0m\u001b[0;34m=\u001b[0m\u001b[0mseed\u001b[0m\u001b[0;34m,\u001b[0m \u001b[0mverbose\u001b[0m\u001b[0;34m=\u001b[0m\u001b[0mverbose\u001b[0m\u001b[0;34m)\u001b[0m\u001b[0;34m\u001b[0m\u001b[0m\n\u001b[0m\u001b[1;32m      4\u001b[0m     \u001b[0;32melse\u001b[0m\u001b[0;34m:\u001b[0m\u001b[0;34m\u001b[0m\u001b[0m\n\u001b[1;32m      5\u001b[0m         \u001b[0mmodel\u001b[0m\u001b[0;34m.\u001b[0m\u001b[0mfit\u001b[0m\u001b[0;34m(\u001b[0m\u001b[0mtrainingX\u001b[0m\u001b[0;34m,\u001b[0m \u001b[0mtrainingY\u001b[0m\u001b[0;34m)\u001b[0m\u001b[0;34m\u001b[0m\u001b[0m\n",
      "\u001b[0;32m/Users/ben/Documents/Summer Research/stgp.py\u001b[0m in \u001b[0;36mfit\u001b[0;34m(self, trainingX, trainingY, seed, verbose)\u001b[0m\n\u001b[1;32m    170\u001b[0m         \u001b[0mpop\u001b[0m \u001b[0;34m=\u001b[0m \u001b[0mself\u001b[0m\u001b[0;34m.\u001b[0m\u001b[0mtoolbox\u001b[0m\u001b[0;34m.\u001b[0m\u001b[0mpopulation\u001b[0m\u001b[0;34m(\u001b[0m\u001b[0mn\u001b[0m\u001b[0;34m=\u001b[0m\u001b[0mself\u001b[0m\u001b[0;34m.\u001b[0m\u001b[0mpop_size\u001b[0m\u001b[0;34m)\u001b[0m\u001b[0;34m\u001b[0m\u001b[0m\n\u001b[1;32m    171\u001b[0m         \u001b[0mhof\u001b[0m \u001b[0;34m=\u001b[0m \u001b[0mtools\u001b[0m\u001b[0;34m.\u001b[0m\u001b[0mHallOfFame\u001b[0m\u001b[0;34m(\u001b[0m\u001b[0mself\u001b[0m\u001b[0;34m.\u001b[0m\u001b[0mnum_best\u001b[0m\u001b[0;34m)\u001b[0m\u001b[0;34m\u001b[0m\u001b[0m\n\u001b[0;32m--> 172\u001b[0;31m         \u001b[0mpop\u001b[0m\u001b[0;34m,\u001b[0m \u001b[0mlog\u001b[0m \u001b[0;34m=\u001b[0m \u001b[0mevolution\u001b[0m\u001b[0;34m.\u001b[0m\u001b[0mgradientEvolution\u001b[0m\u001b[0;34m(\u001b[0m\u001b[0mpop\u001b[0m\u001b[0;34m,\u001b[0m \u001b[0mself\u001b[0m\u001b[0;34m.\u001b[0m\u001b[0mtoolbox\u001b[0m\u001b[0;34m,\u001b[0m \u001b[0mself\u001b[0m\u001b[0;34m.\u001b[0m\u001b[0mcrs_rate\u001b[0m\u001b[0;34m,\u001b[0m \u001b[0mself\u001b[0m\u001b[0;34m.\u001b[0m\u001b[0mmut_rate\u001b[0m\u001b[0;34m,\u001b[0m \u001b[0mself\u001b[0m\u001b[0;34m.\u001b[0m\u001b[0mgenerations\u001b[0m\u001b[0;34m,\u001b[0m \u001b[0mstats\u001b[0m\u001b[0;34m=\u001b[0m\u001b[0mself\u001b[0m\u001b[0;34m.\u001b[0m\u001b[0mmstats\u001b[0m\u001b[0;34m,\u001b[0m \u001b[0mhalloffame\u001b[0m\u001b[0;34m=\u001b[0m\u001b[0mhof\u001b[0m\u001b[0;34m,\u001b[0m \u001b[0mverbose\u001b[0m\u001b[0;34m=\u001b[0m\u001b[0mverbose\u001b[0m\u001b[0;34m)\u001b[0m\u001b[0;34m\u001b[0m\u001b[0m\n\u001b[0m\u001b[1;32m    173\u001b[0m \u001b[0;34m\u001b[0m\u001b[0m\n\u001b[1;32m    174\u001b[0m         \u001b[0;31m# Save the results\u001b[0m\u001b[0;34m\u001b[0m\u001b[0;34m\u001b[0m\u001b[0m\n",
      "\u001b[0;32m/Users/ben/Documents/Summer Research/evolution.py\u001b[0m in \u001b[0;36mgradientEvolution\u001b[0;34m(population, toolbox, cxpb, mutpb, ngen, stats, halloffame, verbose)\u001b[0m\n\u001b[1;32m     11\u001b[0m     \u001b[0minvalid_ind\u001b[0m \u001b[0;34m=\u001b[0m \u001b[0;34m[\u001b[0m\u001b[0mind\u001b[0m \u001b[0;32mfor\u001b[0m \u001b[0mind\u001b[0m \u001b[0;32min\u001b[0m \u001b[0mpopulation\u001b[0m \u001b[0;32mif\u001b[0m \u001b[0;32mnot\u001b[0m \u001b[0mind\u001b[0m\u001b[0;34m.\u001b[0m\u001b[0mfitness\u001b[0m\u001b[0;34m.\u001b[0m\u001b[0mvalid\u001b[0m\u001b[0;34m]\u001b[0m\u001b[0;34m\u001b[0m\u001b[0m\n\u001b[1;32m     12\u001b[0m     \u001b[0mfitnesses\u001b[0m \u001b[0;34m=\u001b[0m \u001b[0mtoolbox\u001b[0m\u001b[0;34m.\u001b[0m\u001b[0mmap\u001b[0m\u001b[0;34m(\u001b[0m\u001b[0mtoolbox\u001b[0m\u001b[0;34m.\u001b[0m\u001b[0mevaluate\u001b[0m\u001b[0;34m,\u001b[0m \u001b[0minvalid_ind\u001b[0m\u001b[0;34m)\u001b[0m\u001b[0;34m\u001b[0m\u001b[0m\n\u001b[0;32m---> 13\u001b[0;31m     \u001b[0;32mfor\u001b[0m \u001b[0mind\u001b[0m\u001b[0;34m,\u001b[0m \u001b[0mfit\u001b[0m \u001b[0;32min\u001b[0m \u001b[0mzip\u001b[0m\u001b[0;34m(\u001b[0m\u001b[0minvalid_ind\u001b[0m\u001b[0;34m,\u001b[0m \u001b[0mfitnesses\u001b[0m\u001b[0;34m)\u001b[0m\u001b[0;34m:\u001b[0m\u001b[0;34m\u001b[0m\u001b[0m\n\u001b[0m\u001b[1;32m     14\u001b[0m         \u001b[0mind\u001b[0m\u001b[0;34m.\u001b[0m\u001b[0mfitness\u001b[0m\u001b[0;34m.\u001b[0m\u001b[0mvalues\u001b[0m \u001b[0;34m=\u001b[0m \u001b[0mfit\u001b[0m\u001b[0;34m\u001b[0m\u001b[0m\n\u001b[1;32m     15\u001b[0m \u001b[0;34m\u001b[0m\u001b[0m\n",
      "\u001b[0;32m/Users/ben/Documents/Summer Research/stgp.py\u001b[0m in \u001b[0;36mfitness_function\u001b[0;34m(self, individual, data, real_labels)\u001b[0m\n\u001b[1;32m    148\u001b[0m \u001b[0;34m\u001b[0m\u001b[0m\n\u001b[1;32m    149\u001b[0m         \u001b[0mpredictions\u001b[0m \u001b[0;34m=\u001b[0m \u001b[0mself\u001b[0m\u001b[0;34m.\u001b[0m\u001b[0mpredict_probabilities\u001b[0m\u001b[0;34m(\u001b[0m\u001b[0mindividual\u001b[0m\u001b[0;34m,\u001b[0m \u001b[0mdata\u001b[0m\u001b[0;34m)\u001b[0m\u001b[0;34m\u001b[0m\u001b[0m\n\u001b[0;32m--> 150\u001b[0;31m         \u001b[0mloss\u001b[0m \u001b[0;34m=\u001b[0m \u001b[0mmetrics\u001b[0m\u001b[0;34m.\u001b[0m\u001b[0mlog_loss\u001b[0m\u001b[0;34m(\u001b[0m\u001b[0mreal_labels\u001b[0m\u001b[0;34m,\u001b[0m \u001b[0mpredictions\u001b[0m\u001b[0;34m)\u001b[0m\u001b[0;34m\u001b[0m\u001b[0m\n\u001b[0m\u001b[1;32m    151\u001b[0m \u001b[0;34m\u001b[0m\u001b[0m\n\u001b[1;32m    152\u001b[0m         \u001b[0;31m# Deap requires multiple values be returned, so the comma is important!\u001b[0m\u001b[0;34m\u001b[0m\u001b[0;34m\u001b[0m\u001b[0m\n",
      "\u001b[0;32m/anaconda/lib/python3.6/site-packages/sklearn/metrics/classification.py\u001b[0m in \u001b[0;36mlog_loss\u001b[0;34m(y_true, y_pred, eps, normalize, sample_weight, labels)\u001b[0m\n\u001b[1;32m   1606\u001b[0m     \u001b[0mThe\u001b[0m \u001b[0mlogarithm\u001b[0m \u001b[0mused\u001b[0m \u001b[0;32mis\u001b[0m \u001b[0mthe\u001b[0m \u001b[0mnatural\u001b[0m \u001b[0mlogarithm\u001b[0m \u001b[0;34m(\u001b[0m\u001b[0mbase\u001b[0m\u001b[0;34m-\u001b[0m\u001b[0me\u001b[0m\u001b[0;34m)\u001b[0m\u001b[0;34m.\u001b[0m\u001b[0;34m\u001b[0m\u001b[0m\n\u001b[1;32m   1607\u001b[0m     \"\"\"\n\u001b[0;32m-> 1608\u001b[0;31m     \u001b[0my_pred\u001b[0m \u001b[0;34m=\u001b[0m \u001b[0mcheck_array\u001b[0m\u001b[0;34m(\u001b[0m\u001b[0my_pred\u001b[0m\u001b[0;34m,\u001b[0m \u001b[0mensure_2d\u001b[0m\u001b[0;34m=\u001b[0m\u001b[0;32mFalse\u001b[0m\u001b[0;34m)\u001b[0m\u001b[0;34m\u001b[0m\u001b[0m\n\u001b[0m\u001b[1;32m   1609\u001b[0m     \u001b[0mcheck_consistent_length\u001b[0m\u001b[0;34m(\u001b[0m\u001b[0my_pred\u001b[0m\u001b[0;34m,\u001b[0m \u001b[0my_true\u001b[0m\u001b[0;34m)\u001b[0m\u001b[0;34m\u001b[0m\u001b[0m\n\u001b[1;32m   1610\u001b[0m \u001b[0;34m\u001b[0m\u001b[0m\n",
      "\u001b[0;32m/anaconda/lib/python3.6/site-packages/sklearn/utils/validation.py\u001b[0m in \u001b[0;36mcheck_array\u001b[0;34m(array, accept_sparse, dtype, order, copy, force_all_finite, ensure_2d, allow_nd, ensure_min_samples, ensure_min_features, warn_on_dtype, estimator)\u001b[0m\n\u001b[1;32m    405\u001b[0m                              % (array.ndim, estimator_name))\n\u001b[1;32m    406\u001b[0m         \u001b[0;32mif\u001b[0m \u001b[0mforce_all_finite\u001b[0m\u001b[0;34m:\u001b[0m\u001b[0;34m\u001b[0m\u001b[0m\n\u001b[0;32m--> 407\u001b[0;31m             \u001b[0m_assert_all_finite\u001b[0m\u001b[0;34m(\u001b[0m\u001b[0marray\u001b[0m\u001b[0;34m)\u001b[0m\u001b[0;34m\u001b[0m\u001b[0m\n\u001b[0m\u001b[1;32m    408\u001b[0m \u001b[0;34m\u001b[0m\u001b[0m\n\u001b[1;32m    409\u001b[0m     \u001b[0mshape_repr\u001b[0m \u001b[0;34m=\u001b[0m \u001b[0m_shape_repr\u001b[0m\u001b[0;34m(\u001b[0m\u001b[0marray\u001b[0m\u001b[0;34m.\u001b[0m\u001b[0mshape\u001b[0m\u001b[0;34m)\u001b[0m\u001b[0;34m\u001b[0m\u001b[0m\n",
      "\u001b[0;32m/anaconda/lib/python3.6/site-packages/sklearn/utils/validation.py\u001b[0m in \u001b[0;36m_assert_all_finite\u001b[0;34m(X)\u001b[0m\n\u001b[1;32m     56\u001b[0m             and not np.isfinite(X).all()):\n\u001b[1;32m     57\u001b[0m         raise ValueError(\"Input contains NaN, infinity\"\n\u001b[0;32m---> 58\u001b[0;31m                          \" or a value too large for %r.\" % X.dtype)\n\u001b[0m\u001b[1;32m     59\u001b[0m \u001b[0;34m\u001b[0m\u001b[0m\n\u001b[1;32m     60\u001b[0m \u001b[0;34m\u001b[0m\u001b[0m\n",
      "\u001b[0;31mValueError\u001b[0m: Input contains NaN, infinity or a value too large for dtype('float64')."
     ]
    }
   ],
   "source": [
    "# Since GP has an element of stochasticity, need to run the evolutionary process several times\n",
    "seeds = [1]\n",
    "for seed in seeds:\n",
    "    training_accuracy, testing_accuracy = fit_and_evaluate(convgp, trainingX, trainingY, testingX, testingY, seed=seed)\n",
    "    print(\"ConvGP: \" + str(training_accuracy) +\", \" + str(testing_accuracy))"
   ]
  },
  {
   "cell_type": "code",
   "execution_count": null,
   "metadata": {
    "collapsed": true
   },
   "outputs": [],
   "source": []
  },
  {
   "cell_type": "code",
   "execution_count": 9,
   "metadata": {},
   "outputs": [],
   "source": [
    "from deap import gp\n",
    "import networkx as nx\n",
    "import pygraphviz as pgv\n",
    "import helpers"
   ]
  },
  {
   "cell_type": "code",
   "execution_count": 18,
   "metadata": {},
   "outputs": [],
   "source": [
    "#tree = convgp.tree\n",
    "tree = convgp.tree\n",
    "nodes, edges, labels = gp.graph(tree)\n",
    "context = convgp.pset.context"
   ]
  },
  {
   "cell_type": "code",
   "execution_count": 19,
   "metadata": {
    "collapsed": true
   },
   "outputs": [],
   "source": [
    "def create_network(nodes, edges, labels, context, image):\n",
    "    # We want a directed graph, as we are dealing with a tree which in this case is directional\n",
    "    G = nx.DiGraph()\n",
    "    \n",
    "    G.add_nodes_from(nodes)\n",
    "    G.add_edges_from(edges)\n",
    "    \n",
    "    # Assign the appropriate function to the node\n",
    "    for _, node in enumerate(nodes):\n",
    "        \n",
    "        label = str(labels[node])\n",
    "\n",
    "        # This is the input (i.e. the image)\n",
    "        if label == \"ARG0\":\n",
    "            G.node[node][\"function\"] = image\n",
    "        else:\n",
    "            G.node[node][\"function\"] = eval(label, context)\n",
    "        \n",
    "        # These will be computed later\n",
    "        G.node[node][\"out\"] = None\n",
    "        G.node[node][\"grad\"] = None\n",
    "\n",
    "    return G\n",
    "\n",
    "# Compute the output for all nodes in the network, storing this output\n",
    "def forward_pass(G, idx):\n",
    "    node = G.node[idx]\n",
    "    args = []\n",
    "    children = G.neighbors(idx)\n",
    "    \n",
    "    # If we have already computed the output, save some work and dont recompute\n",
    "    if node[\"out\"] is not None:\n",
    "        return node[\"out\"]\n",
    "    \n",
    "    # If its a terminal, no children so return the content\n",
    "    if len(children) == 0:\n",
    "        # Store the output to save recomputing\n",
    "        node[\"out\"] = node[\"function\"]\n",
    "        return node[\"out\"]\n",
    "    \n",
    "    # If its a Function, recurse on children\n",
    "    for child in children:\n",
    "        out = forward_pass(G, child)\n",
    "        args.append(out)\n",
    "    \n",
    "    # Pass in the childrens outputs as parameters, and store the output\n",
    "    node[\"out\"] = node[\"function\"](*args) \n",
    "    return node[\"out\"]\n",
    "\n",
    "def mse_loss(real_label, predicted_label):\n",
    "    # Use MSE for now\n",
    "    return 1/2 * (real_label - predicted_label)**2\n",
    "\n",
    "def label_to_numeric(convgp, label):\n",
    "    if label == convgp.classes_[0]:\n",
    "        return 1\n",
    "    else:\n",
    "        return 0\n",
    "    \n",
    "def update_gradients(convgp, real_class, G):\n",
    "    root = 0\n",
    "\n",
    "    # Forward pass, compute output for all nodes. Returning the tree output. Pass this through a sigmoid function\n",
    "    output = helpers.sigmoid(forward_pass(G, root))\n",
    "    print(\"Output:\", output)\n",
    "\n",
    "    real_class = label_to_numeric(convgp, real_class)\n",
    "        \n",
    "    loss = mse_loss(real_class, output)\n",
    "    \n",
    "    print(\"Loss\", loss)\n",
    "    \n",
    "    # Backward pass, propagate gradient back down the tree\n",
    "    \n"
   ]
  },
  {
   "cell_type": "code",
   "execution_count": 20,
   "metadata": {},
   "outputs": [
    {
     "name": "stdout",
     "output_type": "stream",
     "text": [
      "Real Y: 0\n",
      "Output: 1.0\n",
      "Loss 0.5\n"
     ]
    },
    {
     "name": "stderr",
     "output_type": "stream",
     "text": [
      "/Users/ben/Documents/Summer Research/helpers.py:85: RuntimeWarning: divide by zero encountered in double_scalars\n",
      "  return num / den\n"
     ]
    }
   ],
   "source": [
    "idx = 4\n",
    "image = stgp.Image(testingX[idx])\n",
    "G = create_network(nodes, edges, labels, context, image)\n",
    "print(\"Real Y:\", testingY[idx])\n",
    "update_gradients(convgp, trainingY[0], G)"
   ]
  },
  {
   "cell_type": "code",
   "execution_count": 21,
   "metadata": {},
   "outputs": [
    {
     "name": "stdout",
     "output_type": "stream",
     "text": [
      "0 <built-in function mul> inf\n",
      "1 <built-in function sub> inf\n",
      "2 <built-in function sub> -0.08859185458467866\n",
      "3 -0.6287201944830898 -0.6287201944830898\n",
      "4 -0.5401283398984111 -0.5401283398984111\n",
      "5 <function protectedDiv at 0x1121b90d0> -inf\n",
      "6 -0.8416968495564106 -0.8416968495564106\n",
      "7 <function ConvGP.create_pset.<locals>.<lambda> at 0x11287b8c8> 0.0\n",
      "8 <function ConvGP.create_pset.<locals>.<lambda> at 0x11287b7b8> Image(array([[    5.,     9.,     8., ...,     2.,    15.,     4.],\n",
      "       [    7.,    16.,    16., ...,    31.,    45.,    16.],\n",
      "       [   17.,    22.,    24., ...,    27.,    32.,    16.],\n",
      "       ..., \n",
      "       [  504.,   685.,   658., ...,  1619.,  1608.,   810.],\n",
      "       [  498.,   657.,   661., ...,  1655.,  1713.,   834.],\n",
      "       [  245.,   375.,   342., ...,   826.,   843.,   406.]]))\n",
      "9 Image(array([[   1.,    1.,    2., ...,    4.,    2.,    3.],\n",
      "       [   2.,    1.,    2., ...,    3.,    0.,    4.],\n",
      "       [   1.,    1.,    1., ...,    2.,    3.,    5.],\n",
      "       ..., \n",
      "       [  59.,   54.,   56., ...,  137.,  143.,  135.],\n",
      "       [  59.,   62.,   59., ...,  144.,  135.,  144.],\n",
      "       [  59.,   53.,   56., ...,  140.,  139.,  150.]])) Image(array([[   1.,    1.,    2., ...,    4.,    2.,    3.],\n",
      "       [   2.,    1.,    2., ...,    3.,    0.,    4.],\n",
      "       [   1.,    1.,    1., ...,    2.,    3.,    5.],\n",
      "       ..., \n",
      "       [  59.,   54.,   56., ...,  137.,  143.,  135.],\n",
      "       [  59.,   62.,   59., ...,  144.,  135.,  144.],\n",
      "       [  59.,   53.,   56., ...,  140.,  139.,  150.]]))\n",
      "10 Filter([3, 2, 1, 0, -2, 1, 3, 3, 1]) Filter([3, 2, 1, 0, -2, 1, 3, 3, 1])\n",
      "11 Shape('Ellipse') Shape('Ellipse')\n",
      "12 Position(0.8916310399389117) Position(0.8916310399389117)\n",
      "13 Position(0.22397796049173274) Position(0.22397796049173274)\n",
      "14 Size(0.6256048982268874) Size(0.6256048982268874)\n",
      "15 Size(0.4929762364463691) Size(0.4929762364463691)\n",
      "16 <function ConvGP.create_pset.<locals>.<lambda> at 0x11287b9d8> 178.0\n",
      "17 Image(array([[   1.,    1.,    2., ...,    4.,    2.,    3.],\n",
      "       [   2.,    1.,    2., ...,    3.,    0.,    4.],\n",
      "       [   1.,    1.,    1., ...,    2.,    3.,    5.],\n",
      "       ..., \n",
      "       [  59.,   54.,   56., ...,  137.,  143.,  135.],\n",
      "       [  59.,   62.,   59., ...,  144.,  135.,  144.],\n",
      "       [  59.,   53.,   56., ...,  140.,  139.,  150.]])) Image(array([[   1.,    1.,    2., ...,    4.,    2.,    3.],\n",
      "       [   2.,    1.,    2., ...,    3.,    0.,    4.],\n",
      "       [   1.,    1.,    1., ...,    2.,    3.,    5.],\n",
      "       ..., \n",
      "       [  59.,   54.,   56., ...,  137.,  143.,  135.],\n",
      "       [  59.,   62.,   59., ...,  144.,  135.,  144.],\n",
      "       [  59.,   53.,   56., ...,  140.,  139.,  150.]]))\n",
      "18 Shape('Row') Shape('Row')\n",
      "19 Position(0.4166867471178267) Position(0.4166867471178267)\n",
      "20 Position(0.32903820040258946) Position(0.32903820040258946)\n",
      "21 Size(0.40820604048651166) Size(0.40820604048651166)\n",
      "22 Size(0.26412532877879435) Size(0.26412532877879435)\n"
     ]
    }
   ],
   "source": [
    "for idx in G.node:\n",
    "    print(idx, G.node[idx][\"function\"], G.node[idx][\"out\"])\n",
    "    \n"
   ]
  },
  {
   "cell_type": "code",
   "execution_count": 22,
   "metadata": {},
   "outputs": [
    {
     "name": "stdout",
     "output_type": "stream",
     "text": [
      "{6: {}, 7: {}}\n"
     ]
    }
   ],
   "source": [
    "print(G[5])"
   ]
  },
  {
   "cell_type": "code",
   "execution_count": 23,
   "metadata": {},
   "outputs": [
    {
     "name": "stdout",
     "output_type": "stream",
     "text": [
      "{'function': -0.8416968495564106, 'out': -0.8416968495564106, 'grad': None}\n",
      "{'function': <function ConvGP.create_pset.<locals>.<lambda> at 0x11287b8c8>, 'out': 0.0, 'grad': None}\n"
     ]
    }
   ],
   "source": [
    "for idx in [6, 7]:\n",
    "    print(G.node[idx])"
   ]
  },
  {
   "cell_type": "code",
   "execution_count": 24,
   "metadata": {},
   "outputs": [
    {
     "data": {
      "text/plain": [
       "0.0"
      ]
     },
     "execution_count": 24,
     "metadata": {},
     "output_type": "execute_result"
    }
   ],
   "source": [
    "G.node[5][\"function\"](-0.8416968495564106, 0)\n",
    "#eval(\"div(-0.8416968495564106, 0)\", context)"
   ]
  },
  {
   "cell_type": "code",
   "execution_count": 25,
   "metadata": {},
   "outputs": [
    {
     "data": {
      "text/plain": [
       "{'function': <function _operator.sub>, 'grad': None, 'out': inf}"
      ]
     },
     "execution_count": 25,
     "metadata": {},
     "output_type": "execute_result"
    }
   ],
   "source": [
    "G.node[1]"
   ]
  },
  {
   "cell_type": "code",
   "execution_count": null,
   "metadata": {
    "collapsed": true
   },
   "outputs": [],
   "source": []
  }
 ],
 "metadata": {
  "kernelspec": {
   "display_name": "Python 3",
   "language": "python",
   "name": "python3"
  },
  "language_info": {
   "codemirror_mode": {
    "name": "ipython",
    "version": 3
   },
   "file_extension": ".py",
   "mimetype": "text/x-python",
   "name": "python",
   "nbconvert_exporter": "python",
   "pygments_lexer": "ipython3",
   "version": "3.6.1"
  }
 },
 "nbformat": 4,
 "nbformat_minor": 2
}
